{
 "cells": [
  {
   "cell_type": "markdown",
   "id": "d2a9525a",
   "metadata": {},
   "source": [
    "# 4th Session\n",
    "\n",
    "## Functions and Control Flow Structures and Boolean types and None types"
   ]
  },
  {
   "cell_type": "markdown",
   "id": "7cc4dd00",
   "metadata": {},
   "source": [
    "### Functions and Methods:"
   ]
  },
  {
   "cell_type": "code",
   "execution_count": 1,
   "id": "3200e040",
   "metadata": {},
   "outputs": [],
   "source": [
    "list1 = [\"a\", 1, \"b\", 2, \"c\", 3] "
   ]
  },
  {
   "cell_type": "code",
   "execution_count": 2,
   "id": "949b5b4f",
   "metadata": {},
   "outputs": [
    {
     "name": "stdout",
     "output_type": "stream",
     "text": [
      "['a', 1, 'b', 2, 'c', 3]\n"
     ]
    }
   ],
   "source": [
    "print(list1)"
   ]
  },
  {
   "cell_type": "code",
   "execution_count": 3,
   "id": "6dd0f030",
   "metadata": {},
   "outputs": [
    {
     "data": {
      "text/plain": [
       "['a', 1, 'b', 2, 'c', 3, 'd']"
      ]
     },
     "execution_count": 3,
     "metadata": {},
     "output_type": "execute_result"
    }
   ],
   "source": [
    "list1.append(\"d\") #A method is dependent upon data type of a variable\n",
    "list1"
   ]
  },
  {
   "cell_type": "code",
   "execution_count": 4,
   "id": "bf25f17f",
   "metadata": {},
   "outputs": [
    {
     "ename": "AttributeError",
     "evalue": "'tuple' object has no attribute 'append'",
     "output_type": "error",
     "traceback": [
      "\u001b[1;31m---------------------------------------------------------------------------\u001b[0m",
      "\u001b[1;31mAttributeError\u001b[0m                            Traceback (most recent call last)",
      "\u001b[1;32m~\\AppData\\Local\\Temp\\ipykernel_20432\\909124824.py\u001b[0m in \u001b[0;36m<module>\u001b[1;34m\u001b[0m\n\u001b[0;32m      1\u001b[0m \u001b[0mtuplee\u001b[0m \u001b[1;33m=\u001b[0m \u001b[1;33m(\u001b[0m\u001b[1;36m1\u001b[0m\u001b[1;33m,\u001b[0m \u001b[1;36m2\u001b[0m\u001b[1;33m,\u001b[0m \u001b[1;36m3\u001b[0m\u001b[1;33m,\u001b[0m \u001b[1;36m4\u001b[0m\u001b[1;33m)\u001b[0m\u001b[1;33m\u001b[0m\u001b[1;33m\u001b[0m\u001b[0m\n\u001b[1;32m----> 2\u001b[1;33m \u001b[0mtuplee\u001b[0m\u001b[1;33m.\u001b[0m\u001b[0mappend\u001b[0m\u001b[1;33m(\u001b[0m\u001b[1;36m5\u001b[0m\u001b[1;33m)\u001b[0m\u001b[1;33m\u001b[0m\u001b[1;33m\u001b[0m\u001b[0m\n\u001b[0m",
      "\u001b[1;31mAttributeError\u001b[0m: 'tuple' object has no attribute 'append'"
     ]
    }
   ],
   "source": [
    "tuplee = (1, 2, 3, 4)\n",
    "tuplee.append(5)"
   ]
  },
  {
   "cell_type": "code",
   "execution_count": 5,
   "id": "dc4b7c90",
   "metadata": {
    "scrolled": true
   },
   "outputs": [
    {
     "name": "stdout",
     "output_type": "stream",
     "text": [
      "(1, 2, 3, 4)\n"
     ]
    }
   ],
   "source": [
    "print(tuplee)"
   ]
  },
  {
   "cell_type": "markdown",
   "id": "4cee94b1",
   "metadata": {},
   "source": [
    "## Functions"
   ]
  },
  {
   "cell_type": "code",
   "execution_count": 6,
   "id": "7324dcfc",
   "metadata": {},
   "outputs": [],
   "source": [
    "def greet():\n",
    "    print(\"Hello\") #The function is clearly defined"
   ]
  },
  {
   "cell_type": "code",
   "execution_count": 17,
   "id": "69ef56ee",
   "metadata": {},
   "outputs": [
    {
     "name": "stdout",
     "output_type": "stream",
     "text": [
      "Hello\n"
     ]
    }
   ],
   "source": [
    "greet() #It gives the hello whenever the function is called"
   ]
  },
  {
   "cell_type": "markdown",
   "id": "6ff5dba6",
   "metadata": {},
   "source": [
    "### In the example above, we defined a function named greet. When we call this function, it executes the code inside it, which prints \"Hello!\" to the screen."
   ]
  },
  {
   "cell_type": "code",
   "execution_count": 7,
   "id": "7c589ea4",
   "metadata": {},
   "outputs": [],
   "source": [
    "def f(x):\n",
    "    x ** 2 #The mathematics is defined and the result is stored in the memory"
   ]
  },
  {
   "cell_type": "code",
   "execution_count": 8,
   "id": "9f733387",
   "metadata": {},
   "outputs": [
    {
     "ename": "NameError",
     "evalue": "name 'x' is not defined",
     "output_type": "error",
     "traceback": [
      "\u001b[1;31m---------------------------------------------------------------------------\u001b[0m",
      "\u001b[1;31mNameError\u001b[0m                                 Traceback (most recent call last)",
      "\u001b[1;32m~\\AppData\\Local\\Temp\\ipykernel_20432\\2130708246.py\u001b[0m in \u001b[0;36m<module>\u001b[1;34m\u001b[0m\n\u001b[1;32m----> 1\u001b[1;33m \u001b[0mf\u001b[0m\u001b[1;33m(\u001b[0m\u001b[0mx\u001b[0m\u001b[1;33m)\u001b[0m\u001b[1;33m\u001b[0m\u001b[1;33m\u001b[0m\u001b[0m\n\u001b[0m",
      "\u001b[1;31mNameError\u001b[0m: name 'x' is not defined"
     ]
    }
   ],
   "source": [
    "f(x)"
   ]
  },
  {
   "cell_type": "code",
   "execution_count": 9,
   "id": "f02d710a",
   "metadata": {},
   "outputs": [],
   "source": [
    "f(1)"
   ]
  },
  {
   "cell_type": "code",
   "execution_count": 10,
   "id": "e187e824",
   "metadata": {},
   "outputs": [
    {
     "name": "stdout",
     "output_type": "stream",
     "text": [
      "None\n"
     ]
    }
   ],
   "source": [
    "print(f(1))"
   ]
  },
  {
   "cell_type": "code",
   "execution_count": 14,
   "id": "1e1f924f",
   "metadata": {},
   "outputs": [],
   "source": [
    "def f(x):\n",
    "    print(x ** 2) #not only is it defined but it also is stored"
   ]
  },
  {
   "cell_type": "code",
   "execution_count": 16,
   "id": "b9d86884",
   "metadata": {
    "scrolled": true
   },
   "outputs": [
    {
     "name": "stdout",
     "output_type": "stream",
     "text": [
      "1\n",
      "4\n"
     ]
    },
    {
     "data": {
      "text/plain": [
       "(None, None)"
      ]
     },
     "execution_count": 16,
     "metadata": {},
     "output_type": "execute_result"
    }
   ],
   "source": [
    "f(1), f(2)"
   ]
  },
  {
   "cell_type": "code",
   "execution_count": 26,
   "id": "a857919a",
   "metadata": {},
   "outputs": [
    {
     "name": "stdout",
     "output_type": "stream",
     "text": [
      "9\n"
     ]
    },
    {
     "ename": "TypeError",
     "evalue": "unsupported operand type(s) for *: 'NoneType' and 'int'",
     "output_type": "error",
     "traceback": [
      "\u001b[1;31m---------------------------------------------------------------------------\u001b[0m",
      "\u001b[1;31mTypeError\u001b[0m                                 Traceback (most recent call last)",
      "\u001b[1;32m~\\AppData\\Local\\Temp\\ipykernel_20432\\2285358432.py\u001b[0m in \u001b[0;36m<module>\u001b[1;34m\u001b[0m\n\u001b[1;32m----> 1\u001b[1;33m \u001b[0mf\u001b[0m\u001b[1;33m(\u001b[0m\u001b[1;36m3\u001b[0m\u001b[1;33m)\u001b[0m \u001b[1;33m*\u001b[0m \u001b[1;36m3\u001b[0m\u001b[1;33m\u001b[0m\u001b[1;33m\u001b[0m\u001b[0m\n\u001b[0m",
      "\u001b[1;31mTypeError\u001b[0m: unsupported operand type(s) for *: 'NoneType' and 'int'"
     ]
    }
   ],
   "source": [
    "f(3) * 3 #Produces error "
   ]
  },
  {
   "cell_type": "code",
   "execution_count": 18,
   "id": "c6c0f424",
   "metadata": {},
   "outputs": [
    {
     "data": {
      "text/plain": [
       "int"
      ]
     },
     "execution_count": 18,
     "metadata": {},
     "output_type": "execute_result"
    }
   ],
   "source": [
    "type(19)"
   ]
  },
  {
   "cell_type": "code",
   "execution_count": 19,
   "id": "8eba0c2b",
   "metadata": {},
   "outputs": [
    {
     "name": "stdout",
     "output_type": "stream",
     "text": [
      "19\n"
     ]
    },
    {
     "data": {
      "text/plain": [
       "NoneType"
      ]
     },
     "execution_count": 19,
     "metadata": {},
     "output_type": "execute_result"
    }
   ],
   "source": [
    "type(print(19))"
   ]
  },
  {
   "cell_type": "code",
   "execution_count": 21,
   "id": "6ca236a3",
   "metadata": {},
   "outputs": [
    {
     "name": "stdout",
     "output_type": "stream",
     "text": [
      "hello\n"
     ]
    }
   ],
   "source": [
    "print(\"hello\")"
   ]
  },
  {
   "cell_type": "code",
   "execution_count": 22,
   "id": "7587c361",
   "metadata": {},
   "outputs": [
    {
     "data": {
      "text/plain": [
       "str"
      ]
     },
     "execution_count": 22,
     "metadata": {},
     "output_type": "execute_result"
    }
   ],
   "source": [
    "type(\"hello\")"
   ]
  },
  {
   "cell_type": "code",
   "execution_count": 23,
   "id": "6551a0f4",
   "metadata": {},
   "outputs": [
    {
     "name": "stdout",
     "output_type": "stream",
     "text": [
      "hello\n"
     ]
    },
    {
     "data": {
      "text/plain": [
       "NoneType"
      ]
     },
     "execution_count": 23,
     "metadata": {},
     "output_type": "execute_result"
    }
   ],
   "source": [
    "type(print(\"hello\"))"
   ]
  },
  {
   "cell_type": "markdown",
   "id": "4c874c90",
   "metadata": {},
   "source": [
    "## Understanding Function Definitions\n",
    "When defining a function, you can specify parameters (also known as arguments) in parentheses. If there are no parameters, the function simply executes the code provided. The colon (:) at the end of the function definition is mandatory, and the indentation that follows (typically four spaces or a tab) indicates the block of code that belongs to that function."
   ]
  },
  {
   "cell_type": "markdown",
   "id": "9aad3da7",
   "metadata": {},
   "source": [
    "### Example with Parameters\n",
    "Here's another example where we include a parameter:"
   ]
  },
  {
   "cell_type": "code",
   "execution_count": 24,
   "id": "2707f565",
   "metadata": {
    "scrolled": true
   },
   "outputs": [
    {
     "ename": "TypeError",
     "evalue": "greet() takes 0 positional arguments but 1 was given",
     "output_type": "error",
     "traceback": [
      "\u001b[1;31m---------------------------------------------------------------------------\u001b[0m",
      "\u001b[1;31mTypeError\u001b[0m                                 Traceback (most recent call last)",
      "\u001b[1;32m~\\AppData\\Local\\Temp\\ipykernel_20432\\3852685626.py\u001b[0m in \u001b[0;36m<module>\u001b[1;34m\u001b[0m\n\u001b[1;32m----> 1\u001b[1;33m \u001b[0mgreet\u001b[0m\u001b[1;33m(\u001b[0m\u001b[1;34m\"Jane\"\u001b[0m\u001b[1;33m)\u001b[0m\u001b[1;33m\u001b[0m\u001b[1;33m\u001b[0m\u001b[0m\n\u001b[0m",
      "\u001b[1;31mTypeError\u001b[0m: greet() takes 0 positional arguments but 1 was given"
     ]
    }
   ],
   "source": [
    "greet(\"Jane\") #The greet() function doesn't take any arg"
   ]
  },
  {
   "cell_type": "code",
   "execution_count": 25,
   "id": "9ea63901",
   "metadata": {},
   "outputs": [
    {
     "name": "stdout",
     "output_type": "stream",
     "text": [
      "Hello Alice\n"
     ]
    }
   ],
   "source": [
    "def greet(name):\n",
    "    print(\"Hello\", name)\n",
    "    \n",
    "greet(\"Alice\")"
   ]
  },
  {
   "cell_type": "markdown",
   "id": "af3a02c2",
   "metadata": {},
   "source": [
    "### In this case, the function greet takes one argument, name. When we call the function with \"Alice\" as the argument, it prints \"Hello, Alice.\""
   ]
  },
  {
   "cell_type": "markdown",
   "id": "d4b2c85e",
   "metadata": {},
   "source": [
    "## Example of a Function with Return Value\n",
    "Functions can also return values. Here’s an example of a function that adds two numbers:"
   ]
  },
  {
   "cell_type": "code",
   "execution_count": 27,
   "id": "26672585",
   "metadata": {},
   "outputs": [],
   "source": [
    "def f(x):\n",
    "   return x ** 2"
   ]
  },
  {
   "cell_type": "code",
   "execution_count": 28,
   "id": "a9062fd0",
   "metadata": {},
   "outputs": [
    {
     "data": {
      "text/plain": [
       "16"
      ]
     },
     "execution_count": 28,
     "metadata": {},
     "output_type": "execute_result"
    }
   ],
   "source": [
    "f(4)"
   ]
  },
  {
   "cell_type": "code",
   "execution_count": 29,
   "id": "535119c8",
   "metadata": {},
   "outputs": [
    {
     "data": {
      "text/plain": [
       "100"
      ]
     },
     "execution_count": 29,
     "metadata": {},
     "output_type": "execute_result"
    }
   ],
   "source": [
    "f(5) * 4"
   ]
  },
  {
   "cell_type": "code",
   "execution_count": 35,
   "id": "3793d0bd",
   "metadata": {},
   "outputs": [
    {
     "data": {
      "text/plain": [
       "3125"
      ]
     },
     "execution_count": 35,
     "metadata": {},
     "output_type": "execute_result"
    }
   ],
   "source": [
    "x = 5\n",
    "x ** 5"
   ]
  },
  {
   "cell_type": "code",
   "execution_count": 36,
   "id": "59eae6cd",
   "metadata": {},
   "outputs": [
    {
     "data": {
      "text/plain": [
       "5"
      ]
     },
     "execution_count": 36,
     "metadata": {},
     "output_type": "execute_result"
    }
   ],
   "source": [
    "x"
   ]
  },
  {
   "cell_type": "code",
   "execution_count": 37,
   "id": "91843403",
   "metadata": {},
   "outputs": [
    {
     "name": "stdout",
     "output_type": "stream",
     "text": [
      "3125\n"
     ]
    }
   ],
   "source": [
    "x **= 5\n",
    "print(x)"
   ]
  },
  {
   "cell_type": "code",
   "execution_count": 38,
   "id": "f7f52d75",
   "metadata": {},
   "outputs": [
    {
     "data": {
      "text/plain": [
       "25"
      ]
     },
     "execution_count": 38,
     "metadata": {},
     "output_type": "execute_result"
    }
   ],
   "source": [
    "def f(x):\n",
    "    x = x ** 2 #local variable\n",
    "    return x\n",
    "\n",
    "f(5)"
   ]
  },
  {
   "cell_type": "code",
   "execution_count": 39,
   "id": "ce09b082",
   "metadata": {},
   "outputs": [
    {
     "name": "stdout",
     "output_type": "stream",
     "text": [
      "25\n"
     ]
    }
   ],
   "source": [
    "print(f(5))"
   ]
  },
  {
   "cell_type": "code",
   "execution_count": 40,
   "id": "c804fd2d",
   "metadata": {},
   "outputs": [
    {
     "name": "stdout",
     "output_type": "stream",
     "text": [
      "3125\n"
     ]
    }
   ],
   "source": [
    "print(x) #global variable"
   ]
  },
  {
   "cell_type": "markdown",
   "id": "96887411",
   "metadata": {},
   "source": [
    "## Examples for Clarity\n",
    "Function to Calculate the Area of a Rectangle:"
   ]
  },
  {
   "cell_type": "code",
   "execution_count": 41,
   "id": "0556fc97",
   "metadata": {},
   "outputs": [],
   "source": [
    "def area(length, width):\n",
    "    return length * width"
   ]
  },
  {
   "cell_type": "code",
   "execution_count": 42,
   "id": "7184c788",
   "metadata": {},
   "outputs": [
    {
     "data": {
      "text/plain": [
       "6"
      ]
     },
     "execution_count": 42,
     "metadata": {},
     "output_type": "execute_result"
    }
   ],
   "source": [
    "area(2, 3)"
   ]
  },
  {
   "cell_type": "code",
   "execution_count": 44,
   "id": "1f39c2a4",
   "metadata": {},
   "outputs": [
    {
     "name": "stdout",
     "output_type": "stream",
     "text": [
      "6\n"
     ]
    }
   ],
   "source": [
    "print(area(2, 3))"
   ]
  },
  {
   "cell_type": "code",
   "execution_count": 45,
   "id": "c7eacbae",
   "metadata": {
    "scrolled": true
   },
   "outputs": [
    {
     "data": {
      "text/plain": [
       "36"
      ]
     },
     "execution_count": 45,
     "metadata": {},
     "output_type": "execute_result"
    }
   ],
   "source": [
    "area(2, 3) ** 2"
   ]
  },
  {
   "cell_type": "markdown",
   "id": "19a2399a",
   "metadata": {},
   "source": [
    "## What is the difference between using a local variable and not using a local variable in a function?"
   ]
  },
  {
   "cell_type": "code",
   "execution_count": 86,
   "id": "15df006d",
   "metadata": {},
   "outputs": [],
   "source": [
    "def area(length, width):\n",
    "    x = length * width\n",
    "    return x\n",
    "    "
   ]
  },
  {
   "cell_type": "code",
   "execution_count": 87,
   "id": "a90e9018",
   "metadata": {},
   "outputs": [
    {
     "data": {
      "text/plain": [
       "30"
      ]
     },
     "execution_count": 87,
     "metadata": {},
     "output_type": "execute_result"
    }
   ],
   "source": [
    "area(5, 6)"
   ]
  },
  {
   "cell_type": "markdown",
   "id": "d6b6e88e",
   "metadata": {},
   "source": [
    "### In this example, x is stored in memory and further calculations can be done on it, but with pure return statement, the result is temporary stored. For example:"
   ]
  },
  {
   "cell_type": "code",
   "execution_count": 88,
   "id": "902f153c",
   "metadata": {},
   "outputs": [],
   "source": [
    "def area(length, width):\n",
    "    x = length * width\n",
    "    # Further calculations\n",
    "    perimeter = 2 * (length + width)\n",
    "    return x, perimeter"
   ]
  },
  {
   "cell_type": "code",
   "execution_count": 89,
   "id": "f47d3509",
   "metadata": {},
   "outputs": [
    {
     "data": {
      "text/plain": [
       "(30, 22)"
      ]
     },
     "execution_count": 89,
     "metadata": {},
     "output_type": "execute_result"
    }
   ],
   "source": [
    "area(5, 6)"
   ]
  },
  {
   "cell_type": "markdown",
   "id": "9ea4eedc",
   "metadata": {},
   "source": [
    "### 30 is x or area and 22 is the perimeter"
   ]
  },
  {
   "cell_type": "code",
   "execution_count": 93,
   "id": "7e856e7c",
   "metadata": {},
   "outputs": [],
   "source": [
    "def area(length, width):\n",
    "    return length * width\n",
    "    return 2 * (length + width)"
   ]
  },
  {
   "cell_type": "code",
   "execution_count": 94,
   "id": "33240a8d",
   "metadata": {},
   "outputs": [
    {
     "data": {
      "text/plain": [
       "30"
      ]
     },
     "execution_count": 94,
     "metadata": {},
     "output_type": "execute_result"
    }
   ],
   "source": [
    "area(5, 6)"
   ]
  },
  {
   "cell_type": "markdown",
   "id": "c04ec718",
   "metadata": {},
   "source": [
    "### In the above example, only return is being used and you can clearly see that only one of the line is printed, which is the area and perimeter is left out."
   ]
  },
  {
   "cell_type": "markdown",
   "id": "3a4bd30e",
   "metadata": {},
   "source": [
    "## Adding description"
   ]
  },
  {
   "cell_type": "markdown",
   "id": "f279b20a",
   "metadata": {},
   "source": [
    "### Can be added within the function:"
   ]
  },
  {
   "cell_type": "code",
   "execution_count": 95,
   "id": "dc31d36f",
   "metadata": {},
   "outputs": [
    {
     "name": "stdout",
     "output_type": "stream",
     "text": [
      "Area is 15\n",
      "Perimeter is 16\n"
     ]
    },
    {
     "data": {
      "text/plain": [
       "(15, 16)"
      ]
     },
     "execution_count": 95,
     "metadata": {},
     "output_type": "execute_result"
    }
   ],
   "source": [
    "def area(length, width):\n",
    "    x = length * width\n",
    "    perimeter = 2 * (length + width)\n",
    "    print(f\"Area is {x}\")\n",
    "    print(f\"Perimeter is {perimeter}\")\n",
    "    return x, perimeter\n",
    "\n",
    "area(5, 3)"
   ]
  },
  {
   "cell_type": "markdown",
   "id": "3fab93ef",
   "metadata": {},
   "source": [
    "### Can be added outside of the function:"
   ]
  },
  {
   "cell_type": "code",
   "execution_count": 98,
   "id": "d8e37474",
   "metadata": {},
   "outputs": [
    {
     "name": "stdout",
     "output_type": "stream",
     "text": [
      "Area is 15\n",
      "Perimeter is 16\n"
     ]
    }
   ],
   "source": [
    "def area(length, width):\n",
    "    x = length * width\n",
    "    perimeter = 2 * (length + width)\n",
    "    return x, perimeter\n",
    "\n",
    "area_value, perimeter_value = area(5, 3) #multiple variable assignment\n",
    "\n",
    "print(f\"Area is {area_value}\")\n",
    "print(f\"Perimeter is {perimeter_value}\")"
   ]
  },
  {
   "cell_type": "markdown",
   "id": "16cfa2c3",
   "metadata": {},
   "source": [
    "# Control Flow Structures"
   ]
  },
  {
   "cell_type": "markdown",
   "id": "ec67686f",
   "metadata": {},
   "source": [
    "## if-elif-else"
   ]
  },
  {
   "cell_type": "code",
   "execution_count": 60,
   "id": "723a6972",
   "metadata": {
    "scrolled": true
   },
   "outputs": [
    {
     "name": "stdout",
     "output_type": "stream",
     "text": [
      "6\n"
     ]
    }
   ],
   "source": [
    "a = 2\n",
    "b = 3\n",
    "c = a * b\n",
    "print(c)"
   ]
  },
  {
   "cell_type": "markdown",
   "id": "cb08ae9e",
   "metadata": {},
   "source": [
    "### Boolean types"
   ]
  },
  {
   "cell_type": "code",
   "execution_count": 61,
   "id": "67139447",
   "metadata": {},
   "outputs": [
    {
     "data": {
      "text/plain": [
       "True"
      ]
     },
     "execution_count": 61,
     "metadata": {},
     "output_type": "execute_result"
    }
   ],
   "source": [
    "True"
   ]
  },
  {
   "cell_type": "code",
   "execution_count": 62,
   "id": "29890752",
   "metadata": {},
   "outputs": [
    {
     "name": "stdout",
     "output_type": "stream",
     "text": [
      "True\n"
     ]
    }
   ],
   "source": [
    "print(True)"
   ]
  },
  {
   "cell_type": "code",
   "execution_count": 63,
   "id": "193dbd7c",
   "metadata": {},
   "outputs": [
    {
     "data": {
      "text/plain": [
       "2"
      ]
     },
     "execution_count": 63,
     "metadata": {},
     "output_type": "execute_result"
    }
   ],
   "source": [
    "True + 1"
   ]
  },
  {
   "cell_type": "code",
   "execution_count": 64,
   "id": "c78da65b",
   "metadata": {},
   "outputs": [
    {
     "data": {
      "text/plain": [
       "0"
      ]
     },
     "execution_count": 64,
     "metadata": {},
     "output_type": "execute_result"
    }
   ],
   "source": [
    "False + 0"
   ]
  },
  {
   "cell_type": "code",
   "execution_count": 65,
   "id": "c07be152",
   "metadata": {},
   "outputs": [
    {
     "data": {
      "text/plain": [
       "True"
      ]
     },
     "execution_count": 65,
     "metadata": {},
     "output_type": "execute_result"
    }
   ],
   "source": [
    "1 == 1"
   ]
  },
  {
   "cell_type": "code",
   "execution_count": 68,
   "id": "ddc6abbf",
   "metadata": {},
   "outputs": [
    {
     "data": {
      "text/plain": [
       "True"
      ]
     },
     "execution_count": 68,
     "metadata": {},
     "output_type": "execute_result"
    }
   ],
   "source": [
    "1 != 2 #not equal to"
   ]
  },
  {
   "cell_type": "code",
   "execution_count": 69,
   "id": "ef3a8532",
   "metadata": {},
   "outputs": [
    {
     "data": {
      "text/plain": [
       "True"
      ]
     },
     "execution_count": 69,
     "metadata": {},
     "output_type": "execute_result"
    }
   ],
   "source": [
    "2 > 1"
   ]
  },
  {
   "cell_type": "code",
   "execution_count": 70,
   "id": "a1403f1a",
   "metadata": {},
   "outputs": [
    {
     "data": {
      "text/plain": [
       "False"
      ]
     },
     "execution_count": 70,
     "metadata": {},
     "output_type": "execute_result"
    }
   ],
   "source": [
    "2 > 3"
   ]
  },
  {
   "cell_type": "code",
   "execution_count": 73,
   "id": "e1d053a2",
   "metadata": {},
   "outputs": [],
   "source": [
    "list1 = [1, 2, 3, 4, 5, 6, 7, 8, 9]"
   ]
  },
  {
   "cell_type": "code",
   "execution_count": 80,
   "id": "7090eccf",
   "metadata": {},
   "outputs": [
    {
     "name": "stdout",
     "output_type": "stream",
     "text": [
      "5\n",
      "6\n",
      "7\n",
      "8\n",
      "9\n"
     ]
    }
   ],
   "source": [
    "for i in list1:\n",
    "    if i > 4:\n",
    "        print(i)"
   ]
  },
  {
   "cell_type": "code",
   "execution_count": 81,
   "id": "6f52a5a1",
   "metadata": {},
   "outputs": [
    {
     "name": "stdout",
     "output_type": "stream",
     "text": [
      "This number is smaller than 2\n",
      "This number is smaller than 2\n",
      "This number is greater than 2\n",
      "This number is greater than 2\n",
      "This number is greater than 2\n",
      "This number is greater than 2\n",
      "This number is greater than 2\n",
      "This number is greater than 2\n",
      "This number is greater than 2\n"
     ]
    }
   ],
   "source": [
    "for i in list1:\n",
    "    if i > 2:\n",
    "        print(\"This number is greater than 2\")\n",
    "    else:\n",
    "        print(\"This number is smaller than 2\")"
   ]
  },
  {
   "cell_type": "code",
   "execution_count": 99,
   "id": "9ef07e04",
   "metadata": {},
   "outputs": [
    {
     "name": "stdout",
     "output_type": "stream",
     "text": [
      "1 This number is smaller than or equal to 2\n",
      "2 This number is smaller than or equal to 2\n",
      "3 This number is greater than 2\n",
      "4 This number is greater than 2\n",
      "5 This number is greater than 2\n",
      "6 This number is greater than 2\n",
      "7 This number is greater than 2\n",
      "8 This number is greater than 2\n",
      "9 This number is greater than 2\n"
     ]
    }
   ],
   "source": [
    "list1 = [1, 2, 3, 4, 5, 6, 7, 8, 9]\n",
    "\n",
    "for i in list1:\n",
    "    if i > 2:\n",
    "        print(i, \"This number is greater than 2\")\n",
    "    else:\n",
    "        print(i, \"This number is smaller than or equal to 2\")"
   ]
  },
  {
   "cell_type": "markdown",
   "id": "a8ee9401",
   "metadata": {},
   "source": [
    "## For-loop"
   ]
  },
  {
   "cell_type": "code",
   "execution_count": 74,
   "id": "fa8d8cc4",
   "metadata": {},
   "outputs": [
    {
     "name": "stdout",
     "output_type": "stream",
     "text": [
      "1\n",
      "2\n",
      "3\n",
      "4\n",
      "5\n",
      "6\n",
      "7\n",
      "8\n",
      "9\n"
     ]
    }
   ],
   "source": [
    "for i in list1:\n",
    "    print(i)"
   ]
  },
  {
   "cell_type": "code",
   "execution_count": 76,
   "id": "9a9fecc8",
   "metadata": {},
   "outputs": [
    {
     "name": "stdout",
     "output_type": "stream",
     "text": [
      "0.5\n",
      "1.0\n",
      "1.5\n",
      "2.0\n",
      "2.5\n",
      "3.0\n",
      "3.5\n",
      "4.0\n",
      "4.5\n"
     ]
    }
   ],
   "source": [
    "for i in list1:\n",
    "    print(i / 2)"
   ]
  }
 ],
 "metadata": {
  "kernelspec": {
   "display_name": "Python 3 (ipykernel)",
   "language": "python",
   "name": "python3"
  },
  "language_info": {
   "codemirror_mode": {
    "name": "ipython",
    "version": 3
   },
   "file_extension": ".py",
   "mimetype": "text/x-python",
   "name": "python",
   "nbconvert_exporter": "python",
   "pygments_lexer": "ipython3",
   "version": "3.9.13"
  }
 },
 "nbformat": 4,
 "nbformat_minor": 5
}
