{
 "cells": [
  {
   "cell_type": "markdown",
   "id": "d0548697",
   "metadata": {},
   "source": [
    "# Second Session\n",
    "\n",
    "## variable assignments \n",
    "\n",
    "## list and string methods"
   ]
  },
  {
   "cell_type": "markdown",
   "id": "2a75b200",
   "metadata": {},
   "source": [
    "# Simple variable assignment"
   ]
  },
  {
   "cell_type": "code",
   "execution_count": 48,
   "id": "cf8d96da",
   "metadata": {},
   "outputs": [],
   "source": [
    "a = 2\n",
    "b = 3"
   ]
  },
  {
   "cell_type": "code",
   "execution_count": 70,
   "id": "812eb52f",
   "metadata": {},
   "outputs": [
    {
     "name": "stdout",
     "output_type": "stream",
     "text": [
      "6\n"
     ]
    }
   ],
   "source": [
    "c = a * b\n",
    "print(c)"
   ]
  },
  {
   "cell_type": "markdown",
   "id": "dfe255db",
   "metadata": {},
   "source": [
    "# chained assignment "
   ]
  },
  {
   "cell_type": "code",
   "execution_count": 50,
   "id": "cca3cefd",
   "metadata": {},
   "outputs": [],
   "source": [
    "march = 31\n",
    "may = 31"
   ]
  },
  {
   "cell_type": "code",
   "execution_count": 51,
   "id": "f87a5d05",
   "metadata": {},
   "outputs": [],
   "source": [
    "March = January = May = July = August = October = December = 31"
   ]
  },
  {
   "cell_type": "code",
   "execution_count": 52,
   "id": "da963a63",
   "metadata": {},
   "outputs": [
    {
     "name": "stdout",
     "output_type": "stream",
     "text": [
      "31\n"
     ]
    }
   ],
   "source": [
    "print(January)"
   ]
  },
  {
   "cell_type": "code",
   "execution_count": 53,
   "id": "6e77d72b",
   "metadata": {},
   "outputs": [],
   "source": [
    "student1 = student2 = student3 = \"Ali\""
   ]
  },
  {
   "cell_type": "code",
   "execution_count": 54,
   "id": "7e857b24",
   "metadata": {},
   "outputs": [
    {
     "name": "stdout",
     "output_type": "stream",
     "text": [
      "Ali\n"
     ]
    }
   ],
   "source": [
    "print(student1)"
   ]
  },
  {
   "cell_type": "code",
   "execution_count": 55,
   "id": "77af1bf7",
   "metadata": {},
   "outputs": [
    {
     "data": {
      "text/plain": [
       "'Ali'"
      ]
     },
     "execution_count": 55,
     "metadata": {},
     "output_type": "execute_result"
    }
   ],
   "source": [
    "student2"
   ]
  },
  {
   "cell_type": "code",
   "execution_count": 56,
   "id": "5aedc2ca",
   "metadata": {},
   "outputs": [
    {
     "data": {
      "text/plain": [
       "'Ali'"
      ]
     },
     "execution_count": 56,
     "metadata": {},
     "output_type": "execute_result"
    }
   ],
   "source": [
    "student2\n",
    "student3"
   ]
  },
  {
   "cell_type": "code",
   "execution_count": 57,
   "id": "a06af102",
   "metadata": {},
   "outputs": [
    {
     "name": "stdout",
     "output_type": "stream",
     "text": [
      "Ali\n",
      "Ali\n"
     ]
    }
   ],
   "source": [
    "print(student2)\n",
    "print(student3)"
   ]
  },
  {
   "cell_type": "markdown",
   "id": "70c06526",
   "metadata": {},
   "source": [
    "# Augmented assignment operator"
   ]
  },
  {
   "cell_type": "code",
   "execution_count": 58,
   "id": "f785236c",
   "metadata": {},
   "outputs": [
    {
     "data": {
      "text/plain": [
       "50"
      ]
     },
     "execution_count": 58,
     "metadata": {},
     "output_type": "execute_result"
    }
   ],
   "source": [
    "number = 50\n",
    "number"
   ]
  },
  {
   "cell_type": "code",
   "execution_count": 59,
   "id": "0b25f6da",
   "metadata": {},
   "outputs": [
    {
     "data": {
      "text/plain": [
       "100"
      ]
     },
     "execution_count": 59,
     "metadata": {},
     "output_type": "execute_result"
    }
   ],
   "source": [
    "number + 50"
   ]
  },
  {
   "cell_type": "code",
   "execution_count": 60,
   "id": "b18e02fd",
   "metadata": {},
   "outputs": [
    {
     "data": {
      "text/plain": [
       "50"
      ]
     },
     "execution_count": 60,
     "metadata": {},
     "output_type": "execute_result"
    }
   ],
   "source": [
    "number"
   ]
  },
  {
   "cell_type": "code",
   "execution_count": 61,
   "id": "4e6a4759",
   "metadata": {},
   "outputs": [],
   "source": [
    "number = number + 50"
   ]
  },
  {
   "cell_type": "code",
   "execution_count": 62,
   "id": "e74e9197",
   "metadata": {},
   "outputs": [
    {
     "data": {
      "text/plain": [
       "100"
      ]
     },
     "execution_count": 62,
     "metadata": {},
     "output_type": "execute_result"
    }
   ],
   "source": [
    "number"
   ]
  },
  {
   "cell_type": "code",
   "execution_count": 63,
   "id": "19e1ca13",
   "metadata": {},
   "outputs": [],
   "source": [
    "number += 50"
   ]
  },
  {
   "cell_type": "code",
   "execution_count": 64,
   "id": "cef58ab2",
   "metadata": {},
   "outputs": [
    {
     "data": {
      "text/plain": [
       "150"
      ]
     },
     "execution_count": 64,
     "metadata": {},
     "output_type": "execute_result"
    }
   ],
   "source": [
    "number"
   ]
  },
  {
   "cell_type": "code",
   "execution_count": 65,
   "id": "85353d76",
   "metadata": {},
   "outputs": [],
   "source": [
    "number *= 2"
   ]
  },
  {
   "cell_type": "code",
   "execution_count": 66,
   "id": "1be21c86",
   "metadata": {},
   "outputs": [
    {
     "data": {
      "text/plain": [
       "300"
      ]
     },
     "execution_count": 66,
     "metadata": {},
     "output_type": "execute_result"
    }
   ],
   "source": [
    "number"
   ]
  },
  {
   "cell_type": "markdown",
   "id": "599d8491",
   "metadata": {},
   "source": [
    "# Multiple assignment"
   ]
  },
  {
   "cell_type": "code",
   "execution_count": 67,
   "id": "22a07b7e",
   "metadata": {},
   "outputs": [],
   "source": [
    "january, september = 31 , 30"
   ]
  },
  {
   "cell_type": "code",
   "execution_count": 68,
   "id": "9a011a68",
   "metadata": {},
   "outputs": [
    {
     "name": "stdout",
     "output_type": "stream",
     "text": [
      "31\n",
      "30\n"
     ]
    }
   ],
   "source": [
    "print(january, september, sep = \"\\n\")"
   ]
  },
  {
   "cell_type": "code",
   "execution_count": 69,
   "id": "d0147127",
   "metadata": {},
   "outputs": [
    {
     "ename": "SyntaxError",
     "evalue": "invalid syntax (4270198640.py, line 1)",
     "output_type": "error",
     "traceback": [
      "\u001b[1;36m  Cell \u001b[1;32mIn[69], line 1\u001b[1;36m\u001b[0m\n\u001b[1;33m    January \"has\" january days\u001b[0m\n\u001b[1;37m            ^\u001b[0m\n\u001b[1;31mSyntaxError\u001b[0m\u001b[1;31m:\u001b[0m invalid syntax\n"
     ]
    }
   ],
   "source": [
    "January \"has\" january days"
   ]
  },
  {
   "cell_type": "code",
   "execution_count": 25,
   "id": "6bef83c2",
   "metadata": {},
   "outputs": [
    {
     "data": {
      "text/plain": [
       "'January'"
      ]
     },
     "execution_count": 25,
     "metadata": {},
     "output_type": "execute_result"
    }
   ],
   "source": [
    "\"January\""
   ]
  },
  {
   "cell_type": "code",
   "execution_count": 26,
   "id": "6eb2856e",
   "metadata": {},
   "outputs": [
    {
     "data": {
      "text/plain": [
       "('January has', 31, 'days')"
      ]
     },
     "execution_count": 26,
     "metadata": {},
     "output_type": "execute_result"
    }
   ],
   "source": [
    "\"January has\", january, \"days\""
   ]
  },
  {
   "cell_type": "code",
   "execution_count": 27,
   "id": "206af04d",
   "metadata": {},
   "outputs": [
    {
     "name": "stdout",
     "output_type": "stream",
     "text": [
      "January has 31 days\n"
     ]
    }
   ],
   "source": [
    "print(\"January has\", january, \"days\")"
   ]
  },
  {
   "cell_type": "markdown",
   "id": "a0995d35",
   "metadata": {},
   "source": [
    "# F-string"
   ]
  },
  {
   "cell_type": "code",
   "execution_count": 28,
   "id": "c231731b",
   "metadata": {},
   "outputs": [
    {
     "name": "stdout",
     "output_type": "stream",
     "text": [
      "January has 31 days\n"
     ]
    }
   ],
   "source": [
    "print(f\"January has {january} days\")"
   ]
  },
  {
   "cell_type": "code",
   "execution_count": 29,
   "id": "67b3117a",
   "metadata": {},
   "outputs": [
    {
     "data": {
      "text/plain": [
       "str"
      ]
     },
     "execution_count": 29,
     "metadata": {},
     "output_type": "execute_result"
    }
   ],
   "source": [
    "type(\"hello\")"
   ]
  },
  {
   "cell_type": "code",
   "execution_count": 30,
   "id": "48b610af",
   "metadata": {},
   "outputs": [
    {
     "data": {
      "text/plain": [
       "str"
      ]
     },
     "execution_count": 30,
     "metadata": {},
     "output_type": "execute_result"
    }
   ],
   "source": [
    "type('hi')"
   ]
  },
  {
   "cell_type": "code",
   "execution_count": 31,
   "id": "a0d2a6e1",
   "metadata": {},
   "outputs": [
    {
     "data": {
      "text/plain": [
       "str"
      ]
     },
     "execution_count": 31,
     "metadata": {},
     "output_type": "execute_result"
    }
   ],
   "source": [
    "type('''hey''')"
   ]
  },
  {
   "cell_type": "code",
   "execution_count": 32,
   "id": "0b918daa",
   "metadata": {},
   "outputs": [
    {
     "name": "stdout",
     "output_type": "stream",
     "text": [
      "Alice's car is 5 years old\n"
     ]
    }
   ],
   "source": [
    "car_age = 5\n",
    "print(\"Alice's car is\", car_age, \"years old\")"
   ]
  },
  {
   "cell_type": "code",
   "execution_count": 34,
   "id": "6837ff1f",
   "metadata": {
    "scrolled": true
   },
   "outputs": [
    {
     "name": "stdout",
     "output_type": "stream",
     "text": [
      "\n",
      "Help on NoneType object:\n",
      "\n",
      "class NoneType(object)\n",
      " |  Methods defined here:\n",
      " |  \n",
      " |  __bool__(self, /)\n",
      " |      True if self else False\n",
      " |  \n",
      " |  __repr__(self, /)\n",
      " |      Return repr(self).\n",
      " |  \n",
      " |  ----------------------------------------------------------------------\n",
      " |  Static methods defined here:\n",
      " |  \n",
      " |  __new__(*args, **kwargs) from builtins.type\n",
      " |      Create and return a new object.  See help(type) for accurate signature.\n",
      "\n"
     ]
    }
   ],
   "source": [
    "help(print())"
   ]
  },
  {
   "cell_type": "markdown",
   "id": "794fe893",
   "metadata": {},
   "source": [
    "# EXECERISE:\n",
    " \n",
    "## 1. write the following with F-string"
   ]
  },
  {
   "cell_type": "code",
   "execution_count": null,
   "id": "aad7b5a0",
   "metadata": {},
   "outputs": [],
   "source": [
    "print(\"Alice's car is\", car_age, \"years old\")"
   ]
  },
  {
   "cell_type": "code",
   "execution_count": null,
   "id": "164495ac",
   "metadata": {},
   "outputs": [],
   "source": []
  },
  {
   "cell_type": "markdown",
   "id": "d52b9c71",
   "metadata": {},
   "source": [
    "# String methods"
   ]
  },
  {
   "cell_type": "code",
   "execution_count": 35,
   "id": "988d4787",
   "metadata": {},
   "outputs": [],
   "source": [
    "new_str = \"GREATNESS\""
   ]
  },
  {
   "cell_type": "code",
   "execution_count": 36,
   "id": "065008ef",
   "metadata": {},
   "outputs": [
    {
     "data": {
      "text/plain": [
       "'GREETNESS'"
      ]
     },
     "execution_count": 36,
     "metadata": {},
     "output_type": "execute_result"
    }
   ],
   "source": [
    "new_str.replace(\"A\", \"E\")"
   ]
  },
  {
   "cell_type": "code",
   "execution_count": 37,
   "id": "4db6e525",
   "metadata": {},
   "outputs": [
    {
     "data": {
      "text/plain": [
       "9"
      ]
     },
     "execution_count": 37,
     "metadata": {},
     "output_type": "execute_result"
    }
   ],
   "source": [
    "len(new_str)"
   ]
  },
  {
   "cell_type": "code",
   "execution_count": 38,
   "id": "1f0103d0",
   "metadata": {},
   "outputs": [
    {
     "ename": "TypeError",
     "evalue": "object of type 'int' has no len()",
     "output_type": "error",
     "traceback": [
      "\u001b[1;31m---------------------------------------------------------------------------\u001b[0m",
      "\u001b[1;31mTypeError\u001b[0m                                 Traceback (most recent call last)",
      "\u001b[1;32m~\\AppData\\Local\\Temp\\ipykernel_12076\\1795733912.py\u001b[0m in \u001b[0;36m<module>\u001b[1;34m\u001b[0m\n\u001b[1;32m----> 1\u001b[1;33m \u001b[0mlen\u001b[0m\u001b[1;33m(\u001b[0m\u001b[1;36m20\u001b[0m\u001b[1;33m)\u001b[0m\u001b[1;33m\u001b[0m\u001b[1;33m\u001b[0m\u001b[0m\n\u001b[0m",
      "\u001b[1;31mTypeError\u001b[0m: object of type 'int' has no len()"
     ]
    }
   ],
   "source": [
    "len(20) #pay attention to errors"
   ]
  },
  {
   "cell_type": "code",
   "execution_count": 39,
   "id": "17293156",
   "metadata": {},
   "outputs": [
    {
     "data": {
      "text/plain": [
       "'greatness'"
      ]
     },
     "execution_count": 39,
     "metadata": {},
     "output_type": "execute_result"
    }
   ],
   "source": [
    "new_str.lower()"
   ]
  },
  {
   "cell_type": "markdown",
   "id": "a63ed706",
   "metadata": {},
   "source": [
    "## The difference between function and method was discussed here."
   ]
  },
  {
   "cell_type": "code",
   "execution_count": 40,
   "id": "1d1cf52e",
   "metadata": {},
   "outputs": [
    {
     "data": {
      "text/plain": [
       "0"
      ]
     },
     "execution_count": 40,
     "metadata": {},
     "output_type": "execute_result"
    }
   ],
   "source": [
    "new_str.count(\"s\")"
   ]
  },
  {
   "cell_type": "code",
   "execution_count": 41,
   "id": "ecbba1c7",
   "metadata": {},
   "outputs": [],
   "source": [
    "new_str2 = new_str.lower()"
   ]
  },
  {
   "cell_type": "code",
   "execution_count": 42,
   "id": "0de09a8d",
   "metadata": {},
   "outputs": [
    {
     "data": {
      "text/plain": [
       "2"
      ]
     },
     "execution_count": 42,
     "metadata": {},
     "output_type": "execute_result"
    }
   ],
   "source": [
    "new_str2.count(\"s\")"
   ]
  },
  {
   "cell_type": "code",
   "execution_count": 47,
   "id": "cb12319d",
   "metadata": {},
   "outputs": [
    {
     "ename": "NameError",
     "evalue": "name 'new_str2' is not defined",
     "output_type": "error",
     "traceback": [
      "\u001b[1;31m---------------------------------------------------------------------------\u001b[0m",
      "\u001b[1;31mNameError\u001b[0m                                 Traceback (most recent call last)",
      "Cell \u001b[1;32mIn[47], line 1\u001b[0m\n\u001b[1;32m----> 1\u001b[0m \u001b[43mnew_str2\u001b[49m\u001b[38;5;241m.\u001b[39mindex(\u001b[38;5;124m\"\u001b[39m\u001b[38;5;124mg\u001b[39m\u001b[38;5;124m\"\u001b[39m) \u001b[38;5;66;03m#in python the first item's index in a sequential data type is 0\u001b[39;00m\n",
      "\u001b[1;31mNameError\u001b[0m: name 'new_str2' is not defined"
     ]
    }
   ],
   "source": [
    "new_str2.index(\"g\") #in python the first item's index in a sequential data type is 0"
   ]
  },
  {
   "cell_type": "code",
   "execution_count": 46,
   "id": "58ab5bd2",
   "metadata": {},
   "outputs": [
    {
     "ename": "NameError",
     "evalue": "name 'new_str2' is not defined",
     "output_type": "error",
     "traceback": [
      "\u001b[1;31m---------------------------------------------------------------------------\u001b[0m",
      "\u001b[1;31mNameError\u001b[0m                                 Traceback (most recent call last)",
      "Cell \u001b[1;32mIn[46], line 1\u001b[0m\n\u001b[1;32m----> 1\u001b[0m \u001b[43mnew_str2\u001b[49m\u001b[38;5;241m.\u001b[39mindex(\u001b[38;5;124m\"\u001b[39m\u001b[38;5;124mr\u001b[39m\u001b[38;5;124m\"\u001b[39m)\n",
      "\u001b[1;31mNameError\u001b[0m: name 'new_str2' is not defined"
     ]
    }
   ],
   "source": [
    "new_str2.index(\"r\")"
   ]
  },
  {
   "cell_type": "code",
   "execution_count": 48,
   "id": "5c8ee09b",
   "metadata": {},
   "outputs": [
    {
     "data": {
      "text/plain": [
       "True"
      ]
     },
     "execution_count": 48,
     "metadata": {},
     "output_type": "execute_result"
    }
   ],
   "source": [
    "new_str2.endswith(\"s\")"
   ]
  },
  {
   "cell_type": "code",
   "execution_count": 49,
   "id": "be9b458e",
   "metadata": {},
   "outputs": [
    {
     "data": {
      "text/plain": [
       "False"
      ]
     },
     "execution_count": 49,
     "metadata": {},
     "output_type": "execute_result"
    }
   ],
   "source": [
    "new_str2.endswith(\"z\")"
   ]
  },
  {
   "cell_type": "code",
   "execution_count": 179,
   "id": "eb854398",
   "metadata": {
    "scrolled": false
   },
   "outputs": [],
   "source": [
    "#help(new_str.isalnum()) #remove # before help"
   ]
  },
  {
   "cell_type": "code",
   "execution_count": 180,
   "id": "0eae9c46",
   "metadata": {},
   "outputs": [
    {
     "data": {
      "text/plain": [
       "True"
      ]
     },
     "execution_count": 180,
     "metadata": {},
     "output_type": "execute_result"
    }
   ],
   "source": [
    "new_str.isalnum()"
   ]
  },
  {
   "cell_type": "code",
   "execution_count": 185,
   "id": "2dca2638",
   "metadata": {},
   "outputs": [],
   "source": [
    "char = \"&hi\""
   ]
  },
  {
   "cell_type": "code",
   "execution_count": 186,
   "id": "25d40278",
   "metadata": {},
   "outputs": [
    {
     "data": {
      "text/plain": [
       "False"
      ]
     },
     "execution_count": 186,
     "metadata": {},
     "output_type": "execute_result"
    }
   ],
   "source": [
    "char.isalnum()"
   ]
  },
  {
   "cell_type": "code",
   "execution_count": 52,
   "id": "e104387b",
   "metadata": {},
   "outputs": [
    {
     "data": {
      "text/plain": [
       "'GREATNESS'"
      ]
     },
     "execution_count": 52,
     "metadata": {},
     "output_type": "execute_result"
    }
   ],
   "source": [
    "new_str2.upper()"
   ]
  },
  {
   "cell_type": "code",
   "execution_count": 53,
   "id": "40f40236",
   "metadata": {},
   "outputs": [
    {
     "data": {
      "text/plain": [
       "True"
      ]
     },
     "execution_count": 53,
     "metadata": {},
     "output_type": "execute_result"
    }
   ],
   "source": [
    "new_str2.isidentifier() # similar to .isalnum()"
   ]
  },
  {
   "cell_type": "code",
   "execution_count": 54,
   "id": "1efe20da",
   "metadata": {},
   "outputs": [],
   "source": [
    "new_str3 = \"**hello\""
   ]
  },
  {
   "cell_type": "code",
   "execution_count": 55,
   "id": "d572d592",
   "metadata": {},
   "outputs": [
    {
     "data": {
      "text/plain": [
       "False"
      ]
     },
     "execution_count": 55,
     "metadata": {},
     "output_type": "execute_result"
    }
   ],
   "source": [
    "new_str3.isidentifier()"
   ]
  },
  {
   "cell_type": "code",
   "execution_count": 59,
   "id": "d049d249",
   "metadata": {},
   "outputs": [],
   "source": [
    "cake = \"Apple\\tpie\""
   ]
  },
  {
   "cell_type": "code",
   "execution_count": 61,
   "id": "f60e1005",
   "metadata": {},
   "outputs": [
    {
     "data": {
      "text/plain": [
       "'Apple pie'"
      ]
     },
     "execution_count": 61,
     "metadata": {},
     "output_type": "execute_result"
    }
   ],
   "source": [
    "cake.expandtabs(1)"
   ]
  },
  {
   "cell_type": "code",
   "execution_count": 176,
   "id": "1b39008e",
   "metadata": {},
   "outputs": [
    {
     "data": {
      "text/plain": [
       "'#$'"
      ]
     },
     "execution_count": 176,
     "metadata": {},
     "output_type": "execute_result"
    }
   ],
   "source": [
    "\"#$\" #these are characters and are not alphbets or numbers"
   ]
  },
  {
   "cell_type": "code",
   "execution_count": 62,
   "id": "105e55d0",
   "metadata": {},
   "outputs": [],
   "source": [
    "label = \"#inflation\""
   ]
  },
  {
   "cell_type": "code",
   "execution_count": 63,
   "id": "b0413fad",
   "metadata": {},
   "outputs": [
    {
     "data": {
      "text/plain": [
       "False"
      ]
     },
     "execution_count": 63,
     "metadata": {},
     "output_type": "execute_result"
    }
   ],
   "source": [
    "label.isidentifier()"
   ]
  },
  {
   "cell_type": "code",
   "execution_count": null,
   "id": "1f801f58",
   "metadata": {},
   "outputs": [],
   "source": [
    "label."
   ]
  },
  {
   "cell_type": "code",
   "execution_count": 175,
   "id": "86df5c87",
   "metadata": {
    "scrolled": false
   },
   "outputs": [],
   "source": [
    "#dir(str) # remove the # before dir(str) to find the the applicable string methods "
   ]
  },
  {
   "cell_type": "code",
   "execution_count": 77,
   "id": "d6c7ad64",
   "metadata": {},
   "outputs": [
    {
     "data": {
      "text/plain": [
       "'inflation'"
      ]
     },
     "execution_count": 77,
     "metadata": {},
     "output_type": "execute_result"
    }
   ],
   "source": [
    "label.removeprefix(\"#\") #shit key + tab key to get informaton about the function"
   ]
  },
  {
   "cell_type": "code",
   "execution_count": 78,
   "id": "082fcfd4",
   "metadata": {},
   "outputs": [
    {
     "data": {
      "text/plain": [
       "'#inflation'"
      ]
     },
     "execution_count": 78,
     "metadata": {},
     "output_type": "execute_result"
    }
   ],
   "source": [
    "label"
   ]
  },
  {
   "cell_type": "code",
   "execution_count": 80,
   "id": "c7a6507a",
   "metadata": {},
   "outputs": [
    {
     "data": {
      "text/plain": [
       "'inflation'"
      ]
     },
     "execution_count": 80,
     "metadata": {},
     "output_type": "execute_result"
    }
   ],
   "source": [
    "label = label.removeprefix(\"#\")\n",
    "label"
   ]
  },
  {
   "cell_type": "code",
   "execution_count": null,
   "id": "83b9c000",
   "metadata": {},
   "outputs": [],
   "source": []
  },
  {
   "cell_type": "code",
   "execution_count": null,
   "id": "4fab526c",
   "metadata": {},
   "outputs": [],
   "source": []
  },
  {
   "cell_type": "markdown",
   "id": "eee7a0d5",
   "metadata": {},
   "source": [
    "# List methods"
   ]
  },
  {
   "cell_type": "code",
   "execution_count": 82,
   "id": "1090baf0",
   "metadata": {},
   "outputs": [],
   "source": [
    "inflation_rate = [3.2, 3.7, 3.7, 3.2, 3.1, 3.4, 3.1, 3.2, 3.5, 3.4, 3.3]"
   ]
  },
  {
   "cell_type": "code",
   "execution_count": 83,
   "id": "152ee5d0",
   "metadata": {},
   "outputs": [
    {
     "data": {
      "text/plain": [
       "list"
      ]
     },
     "execution_count": 83,
     "metadata": {},
     "output_type": "execute_result"
    }
   ],
   "source": [
    "type(inflation_rate)"
   ]
  },
  {
   "cell_type": "code",
   "execution_count": 85,
   "id": "e4a45a12",
   "metadata": {},
   "outputs": [
    {
     "name": "stdout",
     "output_type": "stream",
     "text": [
      "11\n"
     ]
    }
   ],
   "source": [
    "length = len(inflation_rate)\n",
    "print(length)"
   ]
  },
  {
   "cell_type": "code",
   "execution_count": 86,
   "id": "5af95dd4",
   "metadata": {},
   "outputs": [
    {
     "data": {
      "text/plain": [
       "3.2"
      ]
     },
     "execution_count": 86,
     "metadata": {},
     "output_type": "execute_result"
    }
   ],
   "source": [
    "inflation_rate[0]"
   ]
  },
  {
   "cell_type": "code",
   "execution_count": 87,
   "id": "0fead614",
   "metadata": {},
   "outputs": [
    {
     "data": {
      "text/plain": [
       "3.7"
      ]
     },
     "execution_count": 87,
     "metadata": {},
     "output_type": "execute_result"
    }
   ],
   "source": [
    "inflation_rate[2]"
   ]
  },
  {
   "cell_type": "markdown",
   "id": "5a83a34d",
   "metadata": {},
   "source": [
    "### Each item in a list has its own unique data type and it is distinguished from the other ones"
   ]
  },
  {
   "cell_type": "code",
   "execution_count": 88,
   "id": "1feb57df",
   "metadata": {},
   "outputs": [
    {
     "data": {
      "text/plain": [
       "float"
      ]
     },
     "execution_count": 88,
     "metadata": {},
     "output_type": "execute_result"
    }
   ],
   "source": [
    "type(inflation_rate[2])"
   ]
  },
  {
   "cell_type": "code",
   "execution_count": 89,
   "id": "5845323c",
   "metadata": {},
   "outputs": [],
   "source": [
    "name_age = [\"ali\", 15, \"John\", 58]"
   ]
  },
  {
   "cell_type": "code",
   "execution_count": 90,
   "id": "e6a1da79",
   "metadata": {},
   "outputs": [
    {
     "data": {
      "text/plain": [
       "list"
      ]
     },
     "execution_count": 90,
     "metadata": {},
     "output_type": "execute_result"
    }
   ],
   "source": [
    "type(name_age)"
   ]
  },
  {
   "cell_type": "code",
   "execution_count": 91,
   "id": "a283075b",
   "metadata": {},
   "outputs": [
    {
     "data": {
      "text/plain": [
       "str"
      ]
     },
     "execution_count": 91,
     "metadata": {},
     "output_type": "execute_result"
    }
   ],
   "source": [
    "type(name_age[0])"
   ]
  },
  {
   "cell_type": "code",
   "execution_count": 92,
   "id": "e7d71969",
   "metadata": {},
   "outputs": [
    {
     "data": {
      "text/plain": [
       "int"
      ]
     },
     "execution_count": 92,
     "metadata": {},
     "output_type": "execute_result"
    }
   ],
   "source": [
    "type(name_age[1])"
   ]
  },
  {
   "cell_type": "code",
   "execution_count": 93,
   "id": "5be2fec8",
   "metadata": {},
   "outputs": [],
   "source": [
    "julyinfrate, juneinfrate, mayinfrate = inflation_rate[0], inflation_rate[1], inflation_rate[2]"
   ]
  },
  {
   "cell_type": "code",
   "execution_count": 94,
   "id": "91c384b5",
   "metadata": {},
   "outputs": [
    {
     "name": "stdout",
     "output_type": "stream",
     "text": [
      "3.2\n",
      "3.7\n",
      "3.7\n"
     ]
    }
   ],
   "source": [
    "print(julyinfrate, juneinfrate, mayinfrate, sep = \"\\n\")"
   ]
  },
  {
   "cell_type": "code",
   "execution_count": 95,
   "id": "4f847487",
   "metadata": {},
   "outputs": [
    {
     "data": {
      "text/plain": [
       "[]"
      ]
     },
     "execution_count": 95,
     "metadata": {},
     "output_type": "execute_result"
    }
   ],
   "source": [
    "list()"
   ]
  },
  {
   "cell_type": "code",
   "execution_count": 141,
   "id": "21bfedcc",
   "metadata": {},
   "outputs": [],
   "source": [
    "tuplle = (1, 2, 3, 4)"
   ]
  },
  {
   "cell_type": "code",
   "execution_count": 142,
   "id": "64f9ff9c",
   "metadata": {},
   "outputs": [],
   "source": [
    "ew = list(tuplle)"
   ]
  },
  {
   "cell_type": "code",
   "execution_count": 143,
   "id": "a27bcbc3",
   "metadata": {},
   "outputs": [],
   "source": [
    "combine = inflation_rate + ew"
   ]
  },
  {
   "cell_type": "code",
   "execution_count": 144,
   "id": "7331eeeb",
   "metadata": {},
   "outputs": [
    {
     "data": {
      "text/plain": [
       "[3.2, 3.7, 3.7, 3.2, 3.1, 3.4, 3.1, 3.2, 3.5, 3.4, 3.3, 1, 2, 3, 4]"
      ]
     },
     "execution_count": 144,
     "metadata": {},
     "output_type": "execute_result"
    }
   ],
   "source": [
    "combine"
   ]
  },
  {
   "cell_type": "code",
   "execution_count": 145,
   "id": "ad2b4029",
   "metadata": {},
   "outputs": [
    {
     "ename": "TypeError",
     "evalue": "can only concatenate list (not \"tuple\") to list",
     "output_type": "error",
     "traceback": [
      "\u001b[1;31m---------------------------------------------------------------------------\u001b[0m",
      "\u001b[1;31mTypeError\u001b[0m                                 Traceback (most recent call last)",
      "\u001b[1;32m~\\AppData\\Local\\Temp\\ipykernel_12076\\1186861919.py\u001b[0m in \u001b[0;36m<module>\u001b[1;34m\u001b[0m\n\u001b[1;32m----> 1\u001b[1;33m \u001b[0mcombine\u001b[0m \u001b[1;33m+\u001b[0m \u001b[0mtuplle\u001b[0m\u001b[1;33m\u001b[0m\u001b[1;33m\u001b[0m\u001b[0m\n\u001b[0m",
      "\u001b[1;31mTypeError\u001b[0m: can only concatenate list (not \"tuple\") to list"
     ]
    }
   ],
   "source": [
    "combine + tuplle"
   ]
  },
  {
   "cell_type": "code",
   "execution_count": 146,
   "id": "7ad31002",
   "metadata": {},
   "outputs": [],
   "source": [
    "combine.append(tuplle)"
   ]
  },
  {
   "cell_type": "code",
   "execution_count": 147,
   "id": "46f40209",
   "metadata": {},
   "outputs": [
    {
     "data": {
      "text/plain": [
       "[3.2,\n",
       " 3.7,\n",
       " 3.7,\n",
       " 3.2,\n",
       " 3.1,\n",
       " 3.4,\n",
       " 3.1,\n",
       " 3.2,\n",
       " 3.5,\n",
       " 3.4,\n",
       " 3.3,\n",
       " 1,\n",
       " 2,\n",
       " 3,\n",
       " 4,\n",
       " (1, 2, 3, 4)]"
      ]
     },
     "execution_count": 147,
     "metadata": {},
     "output_type": "execute_result"
    }
   ],
   "source": [
    "combine"
   ]
  },
  {
   "cell_type": "code",
   "execution_count": 148,
   "id": "480c2764",
   "metadata": {},
   "outputs": [
    {
     "data": {
      "text/plain": [
       "16"
      ]
     },
     "execution_count": 148,
     "metadata": {},
     "output_type": "execute_result"
    }
   ],
   "source": [
    "len(combine)"
   ]
  },
  {
   "cell_type": "code",
   "execution_count": 149,
   "id": "48d7bf86",
   "metadata": {},
   "outputs": [
    {
     "data": {
      "text/plain": [
       "(1, 2, 3, 4)"
      ]
     },
     "execution_count": 149,
     "metadata": {},
     "output_type": "execute_result"
    }
   ],
   "source": [
    "combine[15]"
   ]
  },
  {
   "cell_type": "code",
   "execution_count": 150,
   "id": "dfd46c1c",
   "metadata": {
    "scrolled": true
   },
   "outputs": [
    {
     "data": {
      "text/plain": [
       "4"
      ]
     },
     "execution_count": 150,
     "metadata": {},
     "output_type": "execute_result"
    }
   ],
   "source": [
    "combine[15][3] #the forth item of the tuple that is in the list"
   ]
  },
  {
   "cell_type": "markdown",
   "id": "7caef944",
   "metadata": {},
   "source": [
    "# Slicing"
   ]
  },
  {
   "cell_type": "code",
   "execution_count": 155,
   "id": "331dd0e1",
   "metadata": {},
   "outputs": [
    {
     "data": {
      "text/plain": [
       "(3, 4)"
      ]
     },
     "execution_count": 155,
     "metadata": {},
     "output_type": "execute_result"
    }
   ],
   "source": [
    "combine[15][2:]"
   ]
  },
  {
   "cell_type": "code",
   "execution_count": 156,
   "id": "a0ded310",
   "metadata": {},
   "outputs": [
    {
     "data": {
      "text/plain": [
       "(1, 2, 3, 4)"
      ]
     },
     "execution_count": 156,
     "metadata": {},
     "output_type": "execute_result"
    }
   ],
   "source": [
    "combine[15][:4]"
   ]
  },
  {
   "cell_type": "code",
   "execution_count": 157,
   "id": "f614aff5",
   "metadata": {},
   "outputs": [
    {
     "data": {
      "text/plain": [
       "(3, 4)"
      ]
     },
     "execution_count": 157,
     "metadata": {},
     "output_type": "execute_result"
    }
   ],
   "source": [
    "combine[15][2:4]"
   ]
  },
  {
   "cell_type": "code",
   "execution_count": 159,
   "id": "726686c6",
   "metadata": {},
   "outputs": [
    {
     "data": {
      "text/plain": [
       "(3,)"
      ]
     },
     "execution_count": 159,
     "metadata": {},
     "output_type": "execute_result"
    }
   ],
   "source": [
    "combine[15][2:3]"
   ]
  },
  {
   "cell_type": "code",
   "execution_count": 160,
   "id": "36e8fb5b",
   "metadata": {},
   "outputs": [
    {
     "data": {
      "text/plain": [
       "tuple"
      ]
     },
     "execution_count": 160,
     "metadata": {},
     "output_type": "execute_result"
    }
   ],
   "source": [
    "type(combine[15][2:3])"
   ]
  },
  {
   "cell_type": "code",
   "execution_count": 162,
   "id": "a52b86c3",
   "metadata": {},
   "outputs": [],
   "source": [
    "combine.remove((1, 2, 3, 4)) #removed"
   ]
  },
  {
   "cell_type": "code",
   "execution_count": 163,
   "id": "ea622475",
   "metadata": {},
   "outputs": [
    {
     "ename": "ValueError",
     "evalue": "list.remove(x): x not in list",
     "output_type": "error",
     "traceback": [
      "\u001b[1;31m---------------------------------------------------------------------------\u001b[0m",
      "\u001b[1;31mValueError\u001b[0m                                Traceback (most recent call last)",
      "\u001b[1;32m~\\AppData\\Local\\Temp\\ipykernel_12076\\2858464981.py\u001b[0m in \u001b[0;36m<module>\u001b[1;34m\u001b[0m\n\u001b[1;32m----> 1\u001b[1;33m \u001b[0mcombine\u001b[0m\u001b[1;33m.\u001b[0m\u001b[0mremove\u001b[0m\u001b[1;33m(\u001b[0m\u001b[1;33m(\u001b[0m\u001b[1;36m1\u001b[0m\u001b[1;33m,\u001b[0m \u001b[1;36m2\u001b[0m\u001b[1;33m,\u001b[0m \u001b[1;36m3\u001b[0m\u001b[1;33m,\u001b[0m \u001b[1;36m4\u001b[0m\u001b[1;33m)\u001b[0m\u001b[1;33m)\u001b[0m \u001b[1;31m#it is not there to be removed\u001b[0m\u001b[1;33m\u001b[0m\u001b[1;33m\u001b[0m\u001b[0m\n\u001b[0m",
      "\u001b[1;31mValueError\u001b[0m: list.remove(x): x not in list"
     ]
    }
   ],
   "source": [
    "combine.remove((1, 2, 3, 4)) #it is not there to be removed"
   ]
  },
  {
   "cell_type": "code",
   "execution_count": 164,
   "id": "f1a9764d",
   "metadata": {},
   "outputs": [
    {
     "data": {
      "text/plain": [
       "[3.2, 3.7, 3.7, 3.2, 3.1, 3.4, 3.1, 3.2, 3.5, 3.4, 3.3, 1, 2, 3, 4]"
      ]
     },
     "execution_count": 164,
     "metadata": {},
     "output_type": "execute_result"
    }
   ],
   "source": [
    "combine"
   ]
  },
  {
   "cell_type": "code",
   "execution_count": 165,
   "id": "24bc8549",
   "metadata": {},
   "outputs": [],
   "source": [
    "combine.remove(4)"
   ]
  },
  {
   "cell_type": "code",
   "execution_count": 166,
   "id": "bf1607a9",
   "metadata": {},
   "outputs": [
    {
     "data": {
      "text/plain": [
       "[3.2, 3.7, 3.7, 3.2, 3.1, 3.4, 3.1, 3.2, 3.5, 3.4, 3.3, 1, 2, 3]"
      ]
     },
     "execution_count": 166,
     "metadata": {},
     "output_type": "execute_result"
    }
   ],
   "source": [
    "combine"
   ]
  },
  {
   "cell_type": "code",
   "execution_count": 167,
   "id": "742def0d",
   "metadata": {},
   "outputs": [],
   "source": [
    "combine.remove(1)"
   ]
  },
  {
   "cell_type": "code",
   "execution_count": 168,
   "id": "5f2da901",
   "metadata": {},
   "outputs": [
    {
     "data": {
      "text/plain": [
       "[3.2, 3.7, 3.7, 3.2, 3.1, 3.4, 3.1, 3.2, 3.5, 3.4, 3.3, 2, 3]"
      ]
     },
     "execution_count": 168,
     "metadata": {},
     "output_type": "execute_result"
    }
   ],
   "source": [
    "combine"
   ]
  },
  {
   "cell_type": "code",
   "execution_count": 169,
   "id": "22d01dcd",
   "metadata": {},
   "outputs": [
    {
     "data": {
      "text/plain": [
       "3"
      ]
     },
     "execution_count": 169,
     "metadata": {},
     "output_type": "execute_result"
    }
   ],
   "source": [
    "combine.pop() #deletes the last item"
   ]
  },
  {
   "cell_type": "code",
   "execution_count": 170,
   "id": "cfd84661",
   "metadata": {},
   "outputs": [
    {
     "data": {
      "text/plain": [
       "[3.2, 3.7, 3.7, 3.2, 3.1, 3.4, 3.1, 3.2, 3.5, 3.4, 3.3, 2]"
      ]
     },
     "execution_count": 170,
     "metadata": {},
     "output_type": "execute_result"
    }
   ],
   "source": [
    "combine"
   ]
  },
  {
   "cell_type": "code",
   "execution_count": 171,
   "id": "39ad528b",
   "metadata": {},
   "outputs": [
    {
     "data": {
      "text/plain": [
       "[3.2, 3.7, 3.7, 3.2, 3.1]"
      ]
     },
     "execution_count": 171,
     "metadata": {},
     "output_type": "execute_result"
    }
   ],
   "source": [
    "combine[0:5]"
   ]
  },
  {
   "cell_type": "code",
   "execution_count": 172,
   "id": "db1e716c",
   "metadata": {},
   "outputs": [
    {
     "data": {
      "text/plain": [
       "[3.2, 3.7, 3.7, 3.2, 3.1, 3.4, 3.1, 3.2, 3.5, 3.4, 3.3, 2]"
      ]
     },
     "execution_count": 172,
     "metadata": {},
     "output_type": "execute_result"
    }
   ],
   "source": [
    "combine"
   ]
  },
  {
   "cell_type": "code",
   "execution_count": 173,
   "id": "4b0e47a4",
   "metadata": {},
   "outputs": [],
   "source": [
    "del combine"
   ]
  },
  {
   "cell_type": "code",
   "execution_count": 174,
   "id": "659b8af7",
   "metadata": {},
   "outputs": [
    {
     "ename": "NameError",
     "evalue": "name 'combine' is not defined",
     "output_type": "error",
     "traceback": [
      "\u001b[1;31m---------------------------------------------------------------------------\u001b[0m",
      "\u001b[1;31mNameError\u001b[0m                                 Traceback (most recent call last)",
      "\u001b[1;32m~\\AppData\\Local\\Temp\\ipykernel_12076\\2401849752.py\u001b[0m in \u001b[0;36m<module>\u001b[1;34m\u001b[0m\n\u001b[1;32m----> 1\u001b[1;33m \u001b[0mcombine\u001b[0m\u001b[1;33m\u001b[0m\u001b[1;33m\u001b[0m\u001b[0m\n\u001b[0m",
      "\u001b[1;31mNameError\u001b[0m: name 'combine' is not defined"
     ]
    }
   ],
   "source": [
    "combine"
   ]
  },
  {
   "cell_type": "markdown",
   "id": "5e881bda",
   "metadata": {},
   "source": [
    "# Exercise"
   ]
  },
  {
   "cell_type": "markdown",
   "id": "10f1bf94",
   "metadata": {},
   "source": [
    "## 2. Perform  addition, subtraction, multiplication, and division between two lists. Do you encounter errors? Are those errors dependent upon the type of items of the list? "
   ]
  },
  {
   "cell_type": "markdown",
   "id": "3b6c49c0",
   "metadata": {},
   "source": []
  }
 ],
 "metadata": {
  "kernelspec": {
   "display_name": "Python 3",
   "language": "python",
   "name": "python3"
  },
  "language_info": {
   "codemirror_mode": {
    "name": "ipython",
    "version": 3
   },
   "file_extension": ".py",
   "mimetype": "text/x-python",
   "name": "python",
   "nbconvert_exporter": "python",
   "pygments_lexer": "ipython3",
   "version": "3.12.4"
  }
 },
 "nbformat": 4,
 "nbformat_minor": 5
}
