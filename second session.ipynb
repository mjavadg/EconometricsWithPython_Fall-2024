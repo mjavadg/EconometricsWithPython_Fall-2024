{
 "cells": [
  {
   "cell_type": "markdown",
   "id": "d0548697",
   "metadata": {},
   "source": [
    "# Second Session\n",
    "\n",
    "## variable assignments \n",
    "\n",
    "## list and string methods"
   ]
  },
  {
   "cell_type": "markdown",
   "id": "2a75b200",
   "metadata": {},
   "source": [
    "# Simple variable assignment"
   ]
  },
  {
   "cell_type": "code",
   "execution_count": 98,
   "id": "cf8d96da",
   "metadata": {},
   "outputs": [],
   "source": [
    "a = 2\n",
    "b = 3"
   ]
  },
  {
   "cell_type": "code",
   "execution_count": 99,
   "id": "812eb52f",
   "metadata": {},
   "outputs": [
    {
     "name": "stdout",
     "output_type": "stream",
     "text": [
      "6\n"
     ]
    }
   ],
   "source": [
    "c = a * b\n",
    "print(c)"
   ]
  },
  {
   "cell_type": "markdown",
   "id": "dfe255db",
   "metadata": {},
   "source": [
    "# chained assignment "
   ]
  },
  {
   "cell_type": "code",
   "execution_count": 100,
   "id": "cca3cefd",
   "metadata": {},
   "outputs": [],
   "source": [
    "march = 31\n",
    "may = 31"
   ]
  },
  {
   "cell_type": "code",
   "execution_count": 101,
   "id": "f87a5d05",
   "metadata": {},
   "outputs": [],
   "source": [
    "March = January = May = July = August = October = December = 31"
   ]
  },
  {
   "cell_type": "code",
   "execution_count": 102,
   "id": "da963a63",
   "metadata": {},
   "outputs": [
    {
     "name": "stdout",
     "output_type": "stream",
     "text": [
      "31\n"
     ]
    }
   ],
   "source": [
    "print(January)"
   ]
  },
  {
   "cell_type": "code",
   "execution_count": 103,
   "id": "6e77d72b",
   "metadata": {},
   "outputs": [],
   "source": [
    "student1 = student2 = student3 = \"Ali\""
   ]
  },
  {
   "cell_type": "code",
   "execution_count": 104,
   "id": "7e857b24",
   "metadata": {},
   "outputs": [
    {
     "name": "stdout",
     "output_type": "stream",
     "text": [
      "Ali\n"
     ]
    }
   ],
   "source": [
    "print(student1)"
   ]
  },
  {
   "cell_type": "code",
   "execution_count": 105,
   "id": "77af1bf7",
   "metadata": {},
   "outputs": [
    {
     "data": {
      "text/plain": [
       "'Ali'"
      ]
     },
     "execution_count": 105,
     "metadata": {},
     "output_type": "execute_result"
    }
   ],
   "source": [
    "student2"
   ]
  },
  {
   "cell_type": "code",
   "execution_count": 106,
   "id": "5aedc2ca",
   "metadata": {},
   "outputs": [
    {
     "data": {
      "text/plain": [
       "'Ali'"
      ]
     },
     "execution_count": 106,
     "metadata": {},
     "output_type": "execute_result"
    }
   ],
   "source": [
    "student2\n",
    "student3"
   ]
  },
  {
   "cell_type": "code",
   "execution_count": 107,
   "id": "a06af102",
   "metadata": {},
   "outputs": [
    {
     "name": "stdout",
     "output_type": "stream",
     "text": [
      "Ali\n",
      "Ali\n"
     ]
    }
   ],
   "source": [
    "print(student2)\n",
    "print(student3)"
   ]
  },
  {
   "cell_type": "markdown",
   "id": "70c06526",
   "metadata": {},
   "source": [
    "# Augmented assignment operator"
   ]
  },
  {
   "cell_type": "code",
   "execution_count": 108,
   "id": "f785236c",
   "metadata": {},
   "outputs": [
    {
     "data": {
      "text/plain": [
       "50"
      ]
     },
     "execution_count": 108,
     "metadata": {},
     "output_type": "execute_result"
    }
   ],
   "source": [
    "number = 50\n",
    "number"
   ]
  },
  {
   "cell_type": "code",
   "execution_count": 109,
   "id": "0b25f6da",
   "metadata": {},
   "outputs": [
    {
     "data": {
      "text/plain": [
       "100"
      ]
     },
     "execution_count": 109,
     "metadata": {},
     "output_type": "execute_result"
    }
   ],
   "source": [
    "number + 50"
   ]
  },
  {
   "cell_type": "code",
   "execution_count": 110,
   "id": "b18e02fd",
   "metadata": {},
   "outputs": [
    {
     "data": {
      "text/plain": [
       "50"
      ]
     },
     "execution_count": 110,
     "metadata": {},
     "output_type": "execute_result"
    }
   ],
   "source": [
    "number"
   ]
  },
  {
   "cell_type": "code",
   "execution_count": 111,
   "id": "4e6a4759",
   "metadata": {},
   "outputs": [],
   "source": [
    "number = number + 50"
   ]
  },
  {
   "cell_type": "code",
   "execution_count": 112,
   "id": "e74e9197",
   "metadata": {},
   "outputs": [
    {
     "data": {
      "text/plain": [
       "100"
      ]
     },
     "execution_count": 112,
     "metadata": {},
     "output_type": "execute_result"
    }
   ],
   "source": [
    "number"
   ]
  },
  {
   "cell_type": "code",
   "execution_count": 113,
   "id": "19e1ca13",
   "metadata": {},
   "outputs": [],
   "source": [
    "number += 50"
   ]
  },
  {
   "cell_type": "code",
   "execution_count": 114,
   "id": "cef58ab2",
   "metadata": {},
   "outputs": [
    {
     "data": {
      "text/plain": [
       "150"
      ]
     },
     "execution_count": 114,
     "metadata": {},
     "output_type": "execute_result"
    }
   ],
   "source": [
    "number"
   ]
  },
  {
   "cell_type": "code",
   "execution_count": 115,
   "id": "85353d76",
   "metadata": {},
   "outputs": [],
   "source": [
    "number *= 2"
   ]
  },
  {
   "cell_type": "code",
   "execution_count": 116,
   "id": "1be21c86",
   "metadata": {},
   "outputs": [
    {
     "data": {
      "text/plain": [
       "300"
      ]
     },
     "execution_count": 116,
     "metadata": {},
     "output_type": "execute_result"
    }
   ],
   "source": [
    "number"
   ]
  },
  {
   "cell_type": "markdown",
   "id": "599d8491",
   "metadata": {},
   "source": [
    "# Multiple assignment"
   ]
  },
  {
   "cell_type": "code",
   "execution_count": 117,
   "id": "22a07b7e",
   "metadata": {},
   "outputs": [],
   "source": [
    "january, september = 31 , 30"
   ]
  },
  {
   "cell_type": "code",
   "execution_count": 118,
   "id": "9a011a68",
   "metadata": {},
   "outputs": [
    {
     "name": "stdout",
     "output_type": "stream",
     "text": [
      "31\n",
      "30\n"
     ]
    }
   ],
   "source": [
    "print(january, september, sep = \"\\n\")"
   ]
  },
  {
   "cell_type": "code",
   "execution_count": 119,
   "id": "d0147127",
   "metadata": {},
   "outputs": [
    {
     "ename": "SyntaxError",
     "evalue": "invalid syntax (4270198640.py, line 1)",
     "output_type": "error",
     "traceback": [
      "\u001b[1;36m  Cell \u001b[1;32mIn[119], line 1\u001b[1;36m\u001b[0m\n\u001b[1;33m    January \"has\" january days\u001b[0m\n\u001b[1;37m            ^\u001b[0m\n\u001b[1;31mSyntaxError\u001b[0m\u001b[1;31m:\u001b[0m invalid syntax\n"
     ]
    }
   ],
   "source": [
    "January \"has\" january days"
   ]
  },
  {
   "cell_type": "code",
   "execution_count": 120,
   "id": "6bef83c2",
   "metadata": {},
   "outputs": [
    {
     "data": {
      "text/plain": [
       "'January'"
      ]
     },
     "execution_count": 120,
     "metadata": {},
     "output_type": "execute_result"
    }
   ],
   "source": [
    "\"January\""
   ]
  },
  {
   "cell_type": "code",
   "execution_count": 121,
   "id": "6eb2856e",
   "metadata": {},
   "outputs": [
    {
     "data": {
      "text/plain": [
       "('January has', 31, 'days')"
      ]
     },
     "execution_count": 121,
     "metadata": {},
     "output_type": "execute_result"
    }
   ],
   "source": [
    "\"January has\", january, \"days\""
   ]
  },
  {
   "cell_type": "code",
   "execution_count": 122,
   "id": "206af04d",
   "metadata": {},
   "outputs": [
    {
     "name": "stdout",
     "output_type": "stream",
     "text": [
      "January has 31 days\n"
     ]
    }
   ],
   "source": [
    "print(\"January has\", january, \"days\")"
   ]
  },
  {
   "cell_type": "markdown",
   "id": "a0995d35",
   "metadata": {},
   "source": [
    "# F-string"
   ]
  },
  {
   "cell_type": "code",
   "execution_count": 123,
   "id": "c231731b",
   "metadata": {},
   "outputs": [
    {
     "name": "stdout",
     "output_type": "stream",
     "text": [
      "January has 31 days\n"
     ]
    }
   ],
   "source": [
    "print(f\"January has {january} days\")"
   ]
  },
  {
   "cell_type": "code",
   "execution_count": 124,
   "id": "67b3117a",
   "metadata": {},
   "outputs": [
    {
     "data": {
      "text/plain": [
       "str"
      ]
     },
     "execution_count": 124,
     "metadata": {},
     "output_type": "execute_result"
    }
   ],
   "source": [
    "type(\"hello\")"
   ]
  },
  {
   "cell_type": "code",
   "execution_count": 125,
   "id": "48b610af",
   "metadata": {},
   "outputs": [
    {
     "data": {
      "text/plain": [
       "str"
      ]
     },
     "execution_count": 125,
     "metadata": {},
     "output_type": "execute_result"
    }
   ],
   "source": [
    "type('hi')"
   ]
  },
  {
   "cell_type": "code",
   "execution_count": 126,
   "id": "a0d2a6e1",
   "metadata": {},
   "outputs": [
    {
     "data": {
      "text/plain": [
       "str"
      ]
     },
     "execution_count": 126,
     "metadata": {},
     "output_type": "execute_result"
    }
   ],
   "source": [
    "type('''hey''')"
   ]
  },
  {
   "cell_type": "code",
   "execution_count": 127,
   "id": "0b918daa",
   "metadata": {},
   "outputs": [
    {
     "name": "stdout",
     "output_type": "stream",
     "text": [
      "Alice's car is 5 years old\n"
     ]
    }
   ],
   "source": [
    "car_age = 5\n",
    "print(\"Alice's car is\", car_age, \"years old\")"
   ]
  },
  {
   "cell_type": "code",
   "execution_count": 128,
   "id": "6837ff1f",
   "metadata": {
    "scrolled": true
   },
   "outputs": [
    {
     "name": "stdout",
     "output_type": "stream",
     "text": [
      "\n",
      "Help on NoneType object:\n",
      "\n",
      "class NoneType(object)\n",
      " |  Methods defined here:\n",
      " |\n",
      " |  __bool__(self, /)\n",
      " |      True if self else False\n",
      " |\n",
      " |  __eq__(self, value, /)\n",
      " |      Return self==value.\n",
      " |\n",
      " |  __ge__(self, value, /)\n",
      " |      Return self>=value.\n",
      " |\n",
      " |  __gt__(self, value, /)\n",
      " |      Return self>value.\n",
      " |\n",
      " |  __hash__(self, /)\n",
      " |      Return hash(self).\n",
      " |\n",
      " |  __le__(self, value, /)\n",
      " |      Return self<=value.\n",
      " |\n",
      " |  __lt__(self, value, /)\n",
      " |      Return self<value.\n",
      " |\n",
      " |  __ne__(self, value, /)\n",
      " |      Return self!=value.\n",
      " |\n",
      " |  __repr__(self, /)\n",
      " |      Return repr(self).\n",
      " |\n",
      " |  ----------------------------------------------------------------------\n",
      " |  Static methods defined here:\n",
      " |\n",
      " |  __new__(*args, **kwargs)\n",
      " |      Create and return a new object.  See help(type) for accurate signature.\n",
      "\n"
     ]
    }
   ],
   "source": [
    "help(print())"
   ]
  },
  {
   "cell_type": "markdown",
   "id": "794fe893",
   "metadata": {},
   "source": [
    "# EXECERISE:\n",
    " \n",
    "## 1. write the following with F-string"
   ]
  },
  {
   "cell_type": "code",
   "execution_count": 129,
   "id": "aad7b5a0",
   "metadata": {},
   "outputs": [
    {
     "name": "stdout",
     "output_type": "stream",
     "text": [
      "Alice's car is 5 years old\n"
     ]
    }
   ],
   "source": [
    "print(\"Alice's car is\", car_age, \"years old\")"
   ]
  },
  {
   "cell_type": "code",
   "execution_count": null,
   "id": "164495ac",
   "metadata": {},
   "outputs": [],
   "source": []
  },
  {
   "cell_type": "markdown",
   "id": "d52b9c71",
   "metadata": {},
   "source": [
    "# String methods"
   ]
  },
  {
   "cell_type": "code",
   "execution_count": 130,
   "id": "988d4787",
   "metadata": {},
   "outputs": [],
   "source": [
    "new_str = \"GREATNESS\""
   ]
  },
  {
   "cell_type": "code",
   "execution_count": 131,
   "id": "065008ef",
   "metadata": {},
   "outputs": [
    {
     "data": {
      "text/plain": [
       "'GREETNESS'"
      ]
     },
     "execution_count": 131,
     "metadata": {},
     "output_type": "execute_result"
    }
   ],
   "source": [
    "new_str.replace(\"A\", \"E\")"
   ]
  },
  {
   "cell_type": "code",
   "execution_count": 132,
   "id": "4db6e525",
   "metadata": {},
   "outputs": [
    {
     "data": {
      "text/plain": [
       "9"
      ]
     },
     "execution_count": 132,
     "metadata": {},
     "output_type": "execute_result"
    }
   ],
   "source": [
    "len(new_str)"
   ]
  },
  {
   "cell_type": "code",
   "execution_count": 133,
   "id": "1f0103d0",
   "metadata": {},
   "outputs": [
    {
     "ename": "TypeError",
     "evalue": "object of type 'int' has no len()",
     "output_type": "error",
     "traceback": [
      "\u001b[1;31m---------------------------------------------------------------------------\u001b[0m",
      "\u001b[1;31mTypeError\u001b[0m                                 Traceback (most recent call last)",
      "Cell \u001b[1;32mIn[133], line 1\u001b[0m\n\u001b[1;32m----> 1\u001b[0m \u001b[38;5;28;43mlen\u001b[39;49m\u001b[43m(\u001b[49m\u001b[38;5;241;43m20\u001b[39;49m\u001b[43m)\u001b[49m \u001b[38;5;66;03m#pay attention to errors\u001b[39;00m\n",
      "\u001b[1;31mTypeError\u001b[0m: object of type 'int' has no len()"
     ]
    }
   ],
   "source": [
    "len(20) #pay attention to errors"
   ]
  },
  {
   "cell_type": "code",
   "execution_count": 134,
   "id": "17293156",
   "metadata": {},
   "outputs": [
    {
     "data": {
      "text/plain": [
       "'greatness'"
      ]
     },
     "execution_count": 134,
     "metadata": {},
     "output_type": "execute_result"
    }
   ],
   "source": [
    "new_str.lower()"
   ]
  },
  {
   "cell_type": "markdown",
   "id": "a63ed706",
   "metadata": {},
   "source": [
    "## The difference between function and method was discussed here."
   ]
  },
  {
   "cell_type": "code",
   "execution_count": 135,
   "id": "1d1cf52e",
   "metadata": {},
   "outputs": [
    {
     "data": {
      "text/plain": [
       "0"
      ]
     },
     "execution_count": 135,
     "metadata": {},
     "output_type": "execute_result"
    }
   ],
   "source": [
    "new_str.count(\"s\")"
   ]
  },
  {
   "cell_type": "code",
   "execution_count": 136,
   "id": "ecbba1c7",
   "metadata": {},
   "outputs": [],
   "source": [
    "new_str2 = new_str.lower()"
   ]
  },
  {
   "cell_type": "code",
   "execution_count": 137,
   "id": "0de09a8d",
   "metadata": {},
   "outputs": [
    {
     "data": {
      "text/plain": [
       "2"
      ]
     },
     "execution_count": 137,
     "metadata": {},
     "output_type": "execute_result"
    }
   ],
   "source": [
    "new_str2.count(\"s\")"
   ]
  },
  {
   "cell_type": "code",
   "execution_count": 201,
   "id": "cb12319d",
   "metadata": {},
   "outputs": [
    {
     "data": {
      "text/plain": [
       "0"
      ]
     },
     "execution_count": 201,
     "metadata": {},
     "output_type": "execute_result"
    }
   ],
   "source": [
    "new_str2.index(\"g\") #in python the first item's index in a sequential data type is 0"
   ]
  },
  {
   "cell_type": "code",
   "execution_count": 139,
   "id": "58ab5bd2",
   "metadata": {},
   "outputs": [
    {
     "data": {
      "text/plain": [
       "1"
      ]
     },
     "execution_count": 139,
     "metadata": {},
     "output_type": "execute_result"
    }
   ],
   "source": [
    "new_str2.index(\"r\")"
   ]
  },
  {
   "cell_type": "code",
   "execution_count": 140,
   "id": "5c8ee09b",
   "metadata": {},
   "outputs": [
    {
     "data": {
      "text/plain": [
       "True"
      ]
     },
     "execution_count": 140,
     "metadata": {},
     "output_type": "execute_result"
    }
   ],
   "source": [
    "new_str2.endswith(\"s\")"
   ]
  },
  {
   "cell_type": "code",
   "execution_count": 141,
   "id": "be9b458e",
   "metadata": {},
   "outputs": [
    {
     "data": {
      "text/plain": [
       "False"
      ]
     },
     "execution_count": 141,
     "metadata": {},
     "output_type": "execute_result"
    }
   ],
   "source": [
    "new_str2.endswith(\"z\")"
   ]
  },
  {
   "cell_type": "code",
   "execution_count": 142,
   "id": "eb854398",
   "metadata": {
    "scrolled": false
   },
   "outputs": [],
   "source": [
    "#help(new_str.isalnum()) #remove # before help"
   ]
  },
  {
   "cell_type": "code",
   "execution_count": 143,
   "id": "0eae9c46",
   "metadata": {},
   "outputs": [
    {
     "data": {
      "text/plain": [
       "True"
      ]
     },
     "execution_count": 143,
     "metadata": {},
     "output_type": "execute_result"
    }
   ],
   "source": [
    "new_str.isalnum()"
   ]
  },
  {
   "cell_type": "code",
   "execution_count": 144,
   "id": "2dca2638",
   "metadata": {},
   "outputs": [],
   "source": [
    "char = \"&hi\""
   ]
  },
  {
   "cell_type": "code",
   "execution_count": 145,
   "id": "25d40278",
   "metadata": {},
   "outputs": [
    {
     "data": {
      "text/plain": [
       "False"
      ]
     },
     "execution_count": 145,
     "metadata": {},
     "output_type": "execute_result"
    }
   ],
   "source": [
    "char.isalnum()"
   ]
  },
  {
   "cell_type": "code",
   "execution_count": 146,
   "id": "e104387b",
   "metadata": {},
   "outputs": [
    {
     "data": {
      "text/plain": [
       "'GREATNESS'"
      ]
     },
     "execution_count": 146,
     "metadata": {},
     "output_type": "execute_result"
    }
   ],
   "source": [
    "new_str2.upper()"
   ]
  },
  {
   "cell_type": "code",
   "execution_count": 147,
   "id": "40f40236",
   "metadata": {},
   "outputs": [
    {
     "data": {
      "text/plain": [
       "True"
      ]
     },
     "execution_count": 147,
     "metadata": {},
     "output_type": "execute_result"
    }
   ],
   "source": [
    "new_str2.isidentifier() # similar to .isalnum()"
   ]
  },
  {
   "cell_type": "code",
   "execution_count": 148,
   "id": "1efe20da",
   "metadata": {},
   "outputs": [],
   "source": [
    "new_str3 = \"**hello\""
   ]
  },
  {
   "cell_type": "code",
   "execution_count": 149,
   "id": "d572d592",
   "metadata": {},
   "outputs": [
    {
     "data": {
      "text/plain": [
       "False"
      ]
     },
     "execution_count": 149,
     "metadata": {},
     "output_type": "execute_result"
    }
   ],
   "source": [
    "new_str3.isidentifier()"
   ]
  },
  {
   "cell_type": "code",
   "execution_count": 150,
   "id": "d049d249",
   "metadata": {},
   "outputs": [],
   "source": [
    "cake = \"Apple\\tpie\""
   ]
  },
  {
   "cell_type": "code",
   "execution_count": 151,
   "id": "f60e1005",
   "metadata": {},
   "outputs": [
    {
     "data": {
      "text/plain": [
       "'Apple pie'"
      ]
     },
     "execution_count": 151,
     "metadata": {},
     "output_type": "execute_result"
    }
   ],
   "source": [
    "cake.expandtabs(1)"
   ]
  },
  {
   "cell_type": "code",
   "execution_count": 152,
   "id": "1b39008e",
   "metadata": {},
   "outputs": [
    {
     "data": {
      "text/plain": [
       "'#$'"
      ]
     },
     "execution_count": 152,
     "metadata": {},
     "output_type": "execute_result"
    }
   ],
   "source": [
    "\"#$\" #these are characters and are not alphbets or numbers"
   ]
  },
  {
   "cell_type": "code",
   "execution_count": 153,
   "id": "105e55d0",
   "metadata": {},
   "outputs": [],
   "source": [
    "label = \"#inflation\""
   ]
  },
  {
   "cell_type": "code",
   "execution_count": 154,
   "id": "b0413fad",
   "metadata": {},
   "outputs": [
    {
     "data": {
      "text/plain": [
       "False"
      ]
     },
     "execution_count": 154,
     "metadata": {},
     "output_type": "execute_result"
    }
   ],
   "source": [
    "label.isidentifier()"
   ]
  },
  {
   "cell_type": "code",
   "execution_count": 155,
   "id": "1f801f58",
   "metadata": {},
   "outputs": [
    {
     "ename": "SyntaxError",
     "evalue": "invalid syntax (3208149878.py, line 1)",
     "output_type": "error",
     "traceback": [
      "\u001b[1;36m  Cell \u001b[1;32mIn[155], line 1\u001b[1;36m\u001b[0m\n\u001b[1;33m    label.\u001b[0m\n\u001b[1;37m          ^\u001b[0m\n\u001b[1;31mSyntaxError\u001b[0m\u001b[1;31m:\u001b[0m invalid syntax\n"
     ]
    }
   ],
   "source": [
    "label."
   ]
  },
  {
   "cell_type": "code",
   "execution_count": 156,
   "id": "86df5c87",
   "metadata": {
    "scrolled": false
   },
   "outputs": [],
   "source": [
    "#dir(str) # remove the # before dir(str) to find the the applicable string methods "
   ]
  },
  {
   "cell_type": "code",
   "execution_count": 157,
   "id": "d6c7ad64",
   "metadata": {},
   "outputs": [
    {
     "data": {
      "text/plain": [
       "'inflation'"
      ]
     },
     "execution_count": 157,
     "metadata": {},
     "output_type": "execute_result"
    }
   ],
   "source": [
    "label.removeprefix(\"#\") #shit key + tab key to get informaton about the function"
   ]
  },
  {
   "cell_type": "code",
   "execution_count": 158,
   "id": "082fcfd4",
   "metadata": {},
   "outputs": [
    {
     "data": {
      "text/plain": [
       "'#inflation'"
      ]
     },
     "execution_count": 158,
     "metadata": {},
     "output_type": "execute_result"
    }
   ],
   "source": [
    "label"
   ]
  },
  {
   "cell_type": "code",
   "execution_count": 159,
   "id": "c7a6507a",
   "metadata": {},
   "outputs": [
    {
     "data": {
      "text/plain": [
       "'inflation'"
      ]
     },
     "execution_count": 159,
     "metadata": {},
     "output_type": "execute_result"
    }
   ],
   "source": [
    "label = label.removeprefix(\"#\")\n",
    "label"
   ]
  },
  {
   "cell_type": "code",
   "execution_count": null,
   "id": "83b9c000",
   "metadata": {},
   "outputs": [],
   "source": []
  },
  {
   "cell_type": "code",
   "execution_count": null,
   "id": "4fab526c",
   "metadata": {},
   "outputs": [],
   "source": []
  },
  {
   "cell_type": "markdown",
   "id": "eee7a0d5",
   "metadata": {},
   "source": [
    "# List methods"
   ]
  },
  {
   "cell_type": "code",
   "execution_count": 160,
   "id": "1090baf0",
   "metadata": {},
   "outputs": [],
   "source": [
    "inflation_rate = [3.2, 3.7, 3.7, 3.2, 3.1, 3.4, 3.1, 3.2, 3.5, 3.4, 3.3]"
   ]
  },
  {
   "cell_type": "code",
   "execution_count": 161,
   "id": "152ee5d0",
   "metadata": {},
   "outputs": [
    {
     "data": {
      "text/plain": [
       "list"
      ]
     },
     "execution_count": 161,
     "metadata": {},
     "output_type": "execute_result"
    }
   ],
   "source": [
    "type(inflation_rate)"
   ]
  },
  {
   "cell_type": "code",
   "execution_count": 162,
   "id": "e4a45a12",
   "metadata": {},
   "outputs": [
    {
     "name": "stdout",
     "output_type": "stream",
     "text": [
      "11\n"
     ]
    }
   ],
   "source": [
    "length = len(inflation_rate)\n",
    "print(length)"
   ]
  },
  {
   "cell_type": "code",
   "execution_count": 163,
   "id": "5af95dd4",
   "metadata": {},
   "outputs": [
    {
     "data": {
      "text/plain": [
       "3.2"
      ]
     },
     "execution_count": 163,
     "metadata": {},
     "output_type": "execute_result"
    }
   ],
   "source": [
    "inflation_rate[0]"
   ]
  },
  {
   "cell_type": "code",
   "execution_count": 164,
   "id": "0fead614",
   "metadata": {},
   "outputs": [
    {
     "data": {
      "text/plain": [
       "3.7"
      ]
     },
     "execution_count": 164,
     "metadata": {},
     "output_type": "execute_result"
    }
   ],
   "source": [
    "inflation_rate[2]"
   ]
  },
  {
   "cell_type": "markdown",
   "id": "5a83a34d",
   "metadata": {},
   "source": [
    "### Each item in a list has its own unique data type and it is distinguished from the other ones"
   ]
  },
  {
   "cell_type": "code",
   "execution_count": 165,
   "id": "1feb57df",
   "metadata": {},
   "outputs": [
    {
     "data": {
      "text/plain": [
       "float"
      ]
     },
     "execution_count": 165,
     "metadata": {},
     "output_type": "execute_result"
    }
   ],
   "source": [
    "type(inflation_rate[2])"
   ]
  },
  {
   "cell_type": "code",
   "execution_count": 166,
   "id": "5845323c",
   "metadata": {},
   "outputs": [],
   "source": [
    "name_age = [\"ali\", 15, \"John\", 58]"
   ]
  },
  {
   "cell_type": "code",
   "execution_count": 167,
   "id": "e6a1da79",
   "metadata": {},
   "outputs": [
    {
     "data": {
      "text/plain": [
       "list"
      ]
     },
     "execution_count": 167,
     "metadata": {},
     "output_type": "execute_result"
    }
   ],
   "source": [
    "type(name_age)"
   ]
  },
  {
   "cell_type": "code",
   "execution_count": 168,
   "id": "a283075b",
   "metadata": {},
   "outputs": [
    {
     "data": {
      "text/plain": [
       "str"
      ]
     },
     "execution_count": 168,
     "metadata": {},
     "output_type": "execute_result"
    }
   ],
   "source": [
    "type(name_age[0])"
   ]
  },
  {
   "cell_type": "code",
   "execution_count": 169,
   "id": "e7d71969",
   "metadata": {},
   "outputs": [
    {
     "data": {
      "text/plain": [
       "int"
      ]
     },
     "execution_count": 169,
     "metadata": {},
     "output_type": "execute_result"
    }
   ],
   "source": [
    "type(name_age[1])"
   ]
  },
  {
   "cell_type": "code",
   "execution_count": 170,
   "id": "5be2fec8",
   "metadata": {},
   "outputs": [],
   "source": [
    "julyinfrate, juneinfrate, mayinfrate = inflation_rate[0], inflation_rate[1], inflation_rate[2]"
   ]
  },
  {
   "cell_type": "code",
   "execution_count": 171,
   "id": "91c384b5",
   "metadata": {},
   "outputs": [
    {
     "name": "stdout",
     "output_type": "stream",
     "text": [
      "3.2\n",
      "3.7\n",
      "3.7\n"
     ]
    }
   ],
   "source": [
    "print(julyinfrate, juneinfrate, mayinfrate, sep = \"\\n\")"
   ]
  },
  {
   "cell_type": "code",
   "execution_count": 172,
   "id": "4f847487",
   "metadata": {},
   "outputs": [
    {
     "data": {
      "text/plain": [
       "[]"
      ]
     },
     "execution_count": 172,
     "metadata": {},
     "output_type": "execute_result"
    }
   ],
   "source": [
    "list()"
   ]
  },
  {
   "cell_type": "code",
   "execution_count": 173,
   "id": "21bfedcc",
   "metadata": {},
   "outputs": [],
   "source": [
    "tuplle = (1, 2, 3, 4)"
   ]
  },
  {
   "cell_type": "code",
   "execution_count": 174,
   "id": "64f9ff9c",
   "metadata": {},
   "outputs": [],
   "source": [
    "ew = list(tuplle)"
   ]
  },
  {
   "cell_type": "code",
   "execution_count": 175,
   "id": "a27bcbc3",
   "metadata": {},
   "outputs": [],
   "source": [
    "combine = inflation_rate + ew"
   ]
  },
  {
   "cell_type": "code",
   "execution_count": 176,
   "id": "7331eeeb",
   "metadata": {},
   "outputs": [
    {
     "data": {
      "text/plain": [
       "[3.2, 3.7, 3.7, 3.2, 3.1, 3.4, 3.1, 3.2, 3.5, 3.4, 3.3, 1, 2, 3, 4]"
      ]
     },
     "execution_count": 176,
     "metadata": {},
     "output_type": "execute_result"
    }
   ],
   "source": [
    "combine"
   ]
  },
  {
   "cell_type": "code",
   "execution_count": 177,
   "id": "ad2b4029",
   "metadata": {},
   "outputs": [
    {
     "ename": "TypeError",
     "evalue": "can only concatenate list (not \"tuple\") to list",
     "output_type": "error",
     "traceback": [
      "\u001b[1;31m---------------------------------------------------------------------------\u001b[0m",
      "\u001b[1;31mTypeError\u001b[0m                                 Traceback (most recent call last)",
      "Cell \u001b[1;32mIn[177], line 1\u001b[0m\n\u001b[1;32m----> 1\u001b[0m \u001b[43mcombine\u001b[49m\u001b[43m \u001b[49m\u001b[38;5;241;43m+\u001b[39;49m\u001b[43m \u001b[49m\u001b[43mtuplle\u001b[49m\n",
      "\u001b[1;31mTypeError\u001b[0m: can only concatenate list (not \"tuple\") to list"
     ]
    }
   ],
   "source": [
    "combine + tuplle"
   ]
  },
  {
   "cell_type": "code",
   "execution_count": 178,
   "id": "7ad31002",
   "metadata": {},
   "outputs": [],
   "source": [
    "combine.append(tuplle)"
   ]
  },
  {
   "cell_type": "code",
   "execution_count": 179,
   "id": "46f40209",
   "metadata": {},
   "outputs": [
    {
     "data": {
      "text/plain": [
       "[3.2,\n",
       " 3.7,\n",
       " 3.7,\n",
       " 3.2,\n",
       " 3.1,\n",
       " 3.4,\n",
       " 3.1,\n",
       " 3.2,\n",
       " 3.5,\n",
       " 3.4,\n",
       " 3.3,\n",
       " 1,\n",
       " 2,\n",
       " 3,\n",
       " 4,\n",
       " (1, 2, 3, 4)]"
      ]
     },
     "execution_count": 179,
     "metadata": {},
     "output_type": "execute_result"
    }
   ],
   "source": [
    "combine"
   ]
  },
  {
   "cell_type": "code",
   "execution_count": 180,
   "id": "480c2764",
   "metadata": {},
   "outputs": [
    {
     "data": {
      "text/plain": [
       "16"
      ]
     },
     "execution_count": 180,
     "metadata": {},
     "output_type": "execute_result"
    }
   ],
   "source": [
    "len(combine)"
   ]
  },
  {
   "cell_type": "code",
   "execution_count": 181,
   "id": "48d7bf86",
   "metadata": {},
   "outputs": [
    {
     "data": {
      "text/plain": [
       "(1, 2, 3, 4)"
      ]
     },
     "execution_count": 181,
     "metadata": {},
     "output_type": "execute_result"
    }
   ],
   "source": [
    "combine[15]"
   ]
  },
  {
   "cell_type": "code",
   "execution_count": 182,
   "id": "dfd46c1c",
   "metadata": {
    "scrolled": true
   },
   "outputs": [
    {
     "data": {
      "text/plain": [
       "4"
      ]
     },
     "execution_count": 182,
     "metadata": {},
     "output_type": "execute_result"
    }
   ],
   "source": [
    "combine[15][3] #the forth item of the tuple that is in the list"
   ]
  },
  {
   "cell_type": "markdown",
   "id": "7caef944",
   "metadata": {},
   "source": [
    "# Slicing"
   ]
  },
  {
   "cell_type": "code",
   "execution_count": 183,
   "id": "331dd0e1",
   "metadata": {},
   "outputs": [
    {
     "data": {
      "text/plain": [
       "(3, 4)"
      ]
     },
     "execution_count": 183,
     "metadata": {},
     "output_type": "execute_result"
    }
   ],
   "source": [
    "combine[15][2:]"
   ]
  },
  {
   "cell_type": "code",
   "execution_count": 184,
   "id": "a0ded310",
   "metadata": {},
   "outputs": [
    {
     "data": {
      "text/plain": [
       "(1, 2, 3, 4)"
      ]
     },
     "execution_count": 184,
     "metadata": {},
     "output_type": "execute_result"
    }
   ],
   "source": [
    "combine[15][:4]"
   ]
  },
  {
   "cell_type": "code",
   "execution_count": 185,
   "id": "f614aff5",
   "metadata": {},
   "outputs": [
    {
     "data": {
      "text/plain": [
       "(3, 4)"
      ]
     },
     "execution_count": 185,
     "metadata": {},
     "output_type": "execute_result"
    }
   ],
   "source": [
    "combine[15][2:4]"
   ]
  },
  {
   "cell_type": "code",
   "execution_count": 186,
   "id": "726686c6",
   "metadata": {},
   "outputs": [
    {
     "data": {
      "text/plain": [
       "(3,)"
      ]
     },
     "execution_count": 186,
     "metadata": {},
     "output_type": "execute_result"
    }
   ],
   "source": [
    "combine[15][2:3]"
   ]
  },
  {
   "cell_type": "code",
   "execution_count": 187,
   "id": "36e8fb5b",
   "metadata": {},
   "outputs": [
    {
     "data": {
      "text/plain": [
       "tuple"
      ]
     },
     "execution_count": 187,
     "metadata": {},
     "output_type": "execute_result"
    }
   ],
   "source": [
    "type(combine[15][2:3])"
   ]
  },
  {
   "cell_type": "code",
   "execution_count": 188,
   "id": "a52b86c3",
   "metadata": {},
   "outputs": [],
   "source": [
    "combine.remove((1, 2, 3, 4)) #removed"
   ]
  },
  {
   "cell_type": "code",
   "execution_count": 189,
   "id": "ea622475",
   "metadata": {},
   "outputs": [
    {
     "ename": "ValueError",
     "evalue": "list.remove(x): x not in list",
     "output_type": "error",
     "traceback": [
      "\u001b[1;31m---------------------------------------------------------------------------\u001b[0m",
      "\u001b[1;31mValueError\u001b[0m                                Traceback (most recent call last)",
      "Cell \u001b[1;32mIn[189], line 1\u001b[0m\n\u001b[1;32m----> 1\u001b[0m \u001b[43mcombine\u001b[49m\u001b[38;5;241;43m.\u001b[39;49m\u001b[43mremove\u001b[49m\u001b[43m(\u001b[49m\u001b[43m(\u001b[49m\u001b[38;5;241;43m1\u001b[39;49m\u001b[43m,\u001b[49m\u001b[43m \u001b[49m\u001b[38;5;241;43m2\u001b[39;49m\u001b[43m,\u001b[49m\u001b[43m \u001b[49m\u001b[38;5;241;43m3\u001b[39;49m\u001b[43m,\u001b[49m\u001b[43m \u001b[49m\u001b[38;5;241;43m4\u001b[39;49m\u001b[43m)\u001b[49m\u001b[43m)\u001b[49m \u001b[38;5;66;03m#it is not there to be removed\u001b[39;00m\n",
      "\u001b[1;31mValueError\u001b[0m: list.remove(x): x not in list"
     ]
    }
   ],
   "source": [
    "combine.remove((1, 2, 3, 4)) #it is not there to be removed"
   ]
  },
  {
   "cell_type": "code",
   "execution_count": 190,
   "id": "f1a9764d",
   "metadata": {},
   "outputs": [
    {
     "data": {
      "text/plain": [
       "[3.2, 3.7, 3.7, 3.2, 3.1, 3.4, 3.1, 3.2, 3.5, 3.4, 3.3, 1, 2, 3, 4]"
      ]
     },
     "execution_count": 190,
     "metadata": {},
     "output_type": "execute_result"
    }
   ],
   "source": [
    "combine"
   ]
  },
  {
   "cell_type": "code",
   "execution_count": 191,
   "id": "24bc8549",
   "metadata": {},
   "outputs": [],
   "source": [
    "combine.remove(4)"
   ]
  },
  {
   "cell_type": "code",
   "execution_count": 192,
   "id": "bf1607a9",
   "metadata": {},
   "outputs": [
    {
     "data": {
      "text/plain": [
       "[3.2, 3.7, 3.7, 3.2, 3.1, 3.4, 3.1, 3.2, 3.5, 3.4, 3.3, 1, 2, 3]"
      ]
     },
     "execution_count": 192,
     "metadata": {},
     "output_type": "execute_result"
    }
   ],
   "source": [
    "combine"
   ]
  },
  {
   "cell_type": "code",
   "execution_count": 193,
   "id": "742def0d",
   "metadata": {},
   "outputs": [],
   "source": [
    "combine.remove(1)"
   ]
  },
  {
   "cell_type": "code",
   "execution_count": 194,
   "id": "5f2da901",
   "metadata": {},
   "outputs": [
    {
     "data": {
      "text/plain": [
       "[3.2, 3.7, 3.7, 3.2, 3.1, 3.4, 3.1, 3.2, 3.5, 3.4, 3.3, 2, 3]"
      ]
     },
     "execution_count": 194,
     "metadata": {},
     "output_type": "execute_result"
    }
   ],
   "source": [
    "combine"
   ]
  },
  {
   "cell_type": "code",
   "execution_count": 195,
   "id": "22d01dcd",
   "metadata": {},
   "outputs": [
    {
     "data": {
      "text/plain": [
       "3"
      ]
     },
     "execution_count": 195,
     "metadata": {},
     "output_type": "execute_result"
    }
   ],
   "source": [
    "combine.pop() #deletes the last item"
   ]
  },
  {
   "cell_type": "code",
   "execution_count": 196,
   "id": "cfd84661",
   "metadata": {},
   "outputs": [
    {
     "data": {
      "text/plain": [
       "[3.2, 3.7, 3.7, 3.2, 3.1, 3.4, 3.1, 3.2, 3.5, 3.4, 3.3, 2]"
      ]
     },
     "execution_count": 196,
     "metadata": {},
     "output_type": "execute_result"
    }
   ],
   "source": [
    "combine"
   ]
  },
  {
   "cell_type": "code",
   "execution_count": 197,
   "id": "39ad528b",
   "metadata": {},
   "outputs": [
    {
     "data": {
      "text/plain": [
       "[3.2, 3.7, 3.7, 3.2, 3.1]"
      ]
     },
     "execution_count": 197,
     "metadata": {},
     "output_type": "execute_result"
    }
   ],
   "source": [
    "combine[0:5]"
   ]
  },
  {
   "cell_type": "code",
   "execution_count": 198,
   "id": "db1e716c",
   "metadata": {},
   "outputs": [
    {
     "data": {
      "text/plain": [
       "[3.2, 3.7, 3.7, 3.2, 3.1, 3.4, 3.1, 3.2, 3.5, 3.4, 3.3, 2]"
      ]
     },
     "execution_count": 198,
     "metadata": {},
     "output_type": "execute_result"
    }
   ],
   "source": [
    "combine"
   ]
  },
  {
   "cell_type": "code",
   "execution_count": 199,
   "id": "4b0e47a4",
   "metadata": {},
   "outputs": [],
   "source": [
    "del combine"
   ]
  },
  {
   "cell_type": "code",
   "execution_count": 200,
   "id": "659b8af7",
   "metadata": {},
   "outputs": [
    {
     "ename": "NameError",
     "evalue": "name 'combine' is not defined",
     "output_type": "error",
     "traceback": [
      "\u001b[1;31m---------------------------------------------------------------------------\u001b[0m",
      "\u001b[1;31mNameError\u001b[0m                                 Traceback (most recent call last)",
      "Cell \u001b[1;32mIn[200], line 1\u001b[0m\n\u001b[1;32m----> 1\u001b[0m \u001b[43mcombine\u001b[49m\n",
      "\u001b[1;31mNameError\u001b[0m: name 'combine' is not defined"
     ]
    }
   ],
   "source": [
    "combine"
   ]
  },
  {
   "cell_type": "markdown",
   "id": "5e881bda",
   "metadata": {},
   "source": [
    "# Exercise"
   ]
  },
  {
   "cell_type": "markdown",
   "id": "10f1bf94",
   "metadata": {},
   "source": [
    "## 2. Perform  addition, subtraction, multiplication, and division between two lists. Do you encounter errors? Are those errors dependent upon the type of items of the list? "
   ]
  }
 ],
 "metadata": {
  "kernelspec": {
   "display_name": "Python 3",
   "language": "python",
   "name": "python3"
  },
  "language_info": {
   "codemirror_mode": {
    "name": "ipython",
    "version": 3
   },
   "file_extension": ".py",
   "mimetype": "text/x-python",
   "name": "python",
   "nbconvert_exporter": "python",
   "pygments_lexer": "ipython3",
   "version": "3.12.4"
  }
 },
 "nbformat": 4,
 "nbformat_minor": 5
}
